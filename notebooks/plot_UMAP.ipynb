{
 "cells": [
  {
   "cell_type": "markdown",
   "metadata": {},
   "source": [
    "#### Import neccessary libraries and set paths"
   ]
  },
  {
   "cell_type": "code",
   "execution_count": null,
   "metadata": {},
   "outputs": [],
   "source": [
    "import tensorflow as tf\n",
    "\n",
    "config_tf = tf.ConfigProto()\n",
    "config_tf.gpu_options.allow_growth = True\n",
    "sess = tf.Session(config=config_tf)\n",
    "\n",
    "import json\n",
    "import os\n",
    "import sys\n",
    "from importlib import reload\n",
    "from pathlib import Path\n",
    "\n",
    "import imageio\n",
    "import matplotlib.animation as animation\n",
    "import matplotlib.colors as colors\n",
    "import matplotlib.pyplot as plt\n",
    "import numpy as np\n",
    "import pandas as pd\n",
    "import seaborn as sns\n",
    "from astropy.visualization import AsinhStretch, LogStretch, make_lupton_rgb\n",
    "from astropy.visualization.mpl_normalize import ImageNormalize\n",
    "from keras.models import model_from_json\n",
    "from keras.utils import multi_gpu_model\n",
    "from pygifsicle import optimize\n",
    "from sklearn.ensemble import RandomForestRegressor"
   ]
  },
  {
   "cell_type": "code",
   "execution_count": null,
   "metadata": {},
   "outputs": [],
   "source": [
    "params = {\n",
    "    \"legend.fontsize\": \"x-large\",\n",
    "    \"axes.labelsize\": \"x-large\",\n",
    "    \"axes.titlesize\": \"x-large\",\n",
    "    \"xtick.labelsize\": \"x-large\",\n",
    "    \"ytick.labelsize\": \"x-large\",\n",
    "    \"figure.facecolor\": \"w\",\n",
    "    \"xtick.top\": True,\n",
    "    \"ytick.right\": True,\n",
    "    \"xtick.direction\": \"in\",\n",
    "    \"ytick.direction\": \"in\",\n",
    "    \"font.family\": \"serif\",\n",
    "    \"mathtext.fontset\": \"dejavuserif\",\n",
    "}\n",
    "plt.rcParams.update(params)"
   ]
  },
  {
   "cell_type": "code",
   "execution_count": null,
   "metadata": {},
   "outputs": [],
   "source": [
    "# Path where your software library is saved\n",
    "# Clone the latest version of morphCaps branch from github\n",
    "path_photoz = \"/home/bid13/code/photozCapsNet\"\n",
    "\n",
    "sys.path.insert(1, path_photoz)\n",
    "path_photoz = Path(path_photoz)"
   ]
  },
  {
   "cell_type": "markdown",
   "metadata": {},
   "source": [
    "#### Import custom modules"
   ]
  },
  {
   "cell_type": "code",
   "execution_count": null,
   "metadata": {},
   "outputs": [],
   "source": [
    "from encapzulate.data_loader.data_loader import load_data\n",
    "from encapzulate.utils import metrics\n",
    "from encapzulate.utils.fileio import load_config, load_model\n",
    "from encapzulate.utils.metrics import Metrics, bins_to_redshifts, probs_to_redshifts\n",
    "from encapzulate.utils.utils import import_model\n",
    "\n",
    "reload(metrics)"
   ]
  },
  {
   "cell_type": "markdown",
   "metadata": {},
   "source": [
    "#### Specify the results to be explored"
   ]
  },
  {
   "cell_type": "code",
   "execution_count": null,
   "metadata": {},
   "outputs": [],
   "source": [
    "# Parameters for the exploration\n",
    "run_name = \"paper1_regression_80perc_0\"\n",
    "checkpoint_eval = 100"
   ]
  },
  {
   "cell_type": "code",
   "execution_count": null,
   "metadata": {},
   "outputs": [],
   "source": [
    "# Create and set different paths\n",
    "# path_output = \"/data/bid13/photoZ/results\"\n",
    "path_output = \"/home/bid13/code/photozCapsNet/results\"\n",
    "path_output = Path(path_output)\n",
    "path_results = path_output / run_name.split(\"_\")[0] / run_name / \"results\"\n",
    "path_config = path_results / \"config.yml\""
   ]
  },
  {
   "cell_type": "markdown",
   "metadata": {},
   "source": [
    "#### Load Config, Model and Data"
   ]
  },
  {
   "cell_type": "code",
   "execution_count": null,
   "metadata": {},
   "outputs": [],
   "source": [
    "config = load_config(path_config)\n",
    "scale = config[\"image_scale\"]"
   ]
  },
  {
   "cell_type": "code",
   "execution_count": null,
   "metadata": {},
   "outputs": [],
   "source": [
    "log = pd.read_csv(path_results / \"logs\" / \"log.csv\")"
   ]
  },
  {
   "cell_type": "code",
   "execution_count": null,
   "metadata": {},
   "outputs": [],
   "source": [
    "max_acc = log[log.val_decoder_model_loss == log.val_decoder_model_loss.min()]\n",
    "max_acc"
   ]
  },
  {
   "cell_type": "code",
   "execution_count": null,
   "metadata": {},
   "outputs": [],
   "source": [
    "# with tf.device('/cpu:0'):\n",
    "model = load_model(\n",
    "    path_results / \"eval_model.json\",\n",
    "    path_results / \"weights\" / f\"weights-{checkpoint_eval:02d}.h5\",\n",
    ")\n",
    "# model = multi_gpu_model(model,gpus=2)\n",
    "model.summary()"
   ]
  },
  {
   "cell_type": "code",
   "execution_count": null,
   "metadata": {},
   "outputs": [],
   "source": [
    "(\n",
    "    (x_train, y_train, vals_train, z_spec_train, cat_train),\n",
    "    (x_dev, y_dev, vals_dev, z_spec_dev, cat_dev),\n",
    "    (x_test, y_test, vals_test, z_spec_test, cat_test),\n",
    ") = load_data(load_cat=True, **config)"
   ]
  },
  {
   "cell_type": "markdown",
   "metadata": {},
   "source": [
    "#### Run Predictions"
   ]
  },
  {
   "cell_type": "code",
   "execution_count": null,
   "metadata": {},
   "outputs": [],
   "source": [
    "y_caps_test, y_caps_all_test, y_prob_test, x_recon_test, z_phot_test = model.predict(\n",
    "    x_test, batch_size=1024\n",
    ")"
   ]
  },
  {
   "cell_type": "code",
   "execution_count": null,
   "metadata": {},
   "outputs": [],
   "source": [
    "del x_train\n",
    "# del x_test\n",
    "del x_dev\n",
    "# del x_recon_test\n",
    "# del x_recon_dev"
   ]
  },
  {
   "cell_type": "code",
   "execution_count": null,
   "metadata": {},
   "outputs": [],
   "source": [
    "# def logistic_trans(x, xmin=0, xmax=0.4):\n",
    "#     return np.log((x - xmin) / (xmax - x))\n",
    "\n",
    "\n",
    "# def logistic_trans_inv(x, xmin=0, xmax=0.4):\n",
    "#     return (np.exp(x) * xmax + xmin) / (np.exp(x) + 1)"
   ]
  },
  {
   "cell_type": "code",
   "execution_count": null,
   "metadata": {},
   "outputs": [],
   "source": [
    "# z_spec_test = logistic_trans_inv(z_spec_test)\n",
    "# z_phot_test = np.squeeze(logistic_trans_inv(z_phot_test))\n",
    "\n",
    "data = np.load(\"z_pred.npz\")\n",
    "test_id = data[\"test_id\"]\n",
    "z_spec_test = data[\"z_spec\"]\n",
    "z_phot_test = data[\"z_phot\"]"
   ]
  },
  {
   "cell_type": "code",
   "execution_count": null,
   "metadata": {},
   "outputs": [],
   "source": [
    "import umap\n",
    "\n",
    "embedder = umap.UMAP(\n",
    "    random_state=42, n_components=2, n_neighbors=30, #set_op_mix_ratio=1,\n",
    "    densmap=True, dens_lambda=1\n",
    ")\n",
    "embedding = embedder.fit_transform(y_caps_test)"
   ]
  },
  {
   "cell_type": "code",
   "execution_count": null,
   "metadata": {},
   "outputs": [],
   "source": [
    "def compute_nn_redshift_z_loss(embedding, redshift, k=50):\n",
    "    from scipy.spatial import cKDTree\n",
    "    tree = cKDTree(embedding)\n",
    "    dd, ii =tree.query(embedding,k=k, n_jobs=-1)\n",
    "    dd = dd[:,1:]\n",
    "    ii = ii[:,1:]\n",
    "#     centroid = np.median(redshift[ii], axis=-1)\n",
    "    centroid = np.sum(redshift[ii]/dd, axis=-1)/np.sum(1/dd, axis=-1)\n",
    "    \n",
    "    return np.mean((redshift-centroid)**2)"
   ]
  },
  {
   "cell_type": "code",
   "execution_count": null,
   "metadata": {},
   "outputs": [],
   "source": [
    "# h_grid = [0.01, 0.05, 0.1, 0.5, 1, 2, 5]\n",
    "# loss =[]\n",
    "# for h in h_grid:\n",
    "#     embedding = umap.UMAP(\n",
    "#         random_state=42,\n",
    "#         n_components=2,\n",
    "#         n_neighbors=30,\n",
    "#         set_op_mix_ratio=1,\n",
    "#         densmap=True,\n",
    "#         dens_lambda=h,\n",
    "#     ).fit_transform(y_caps_test)\n",
    "#     l = compute_nn_redshift_z_loss(embedding, z_spec_test)\n",
    "#     print(f\"val:{h}    loss:{l}\")\n",
    "#     loss.append(l)\n"
   ]
  },
  {
   "cell_type": "code",
   "execution_count": null,
   "metadata": {},
   "outputs": [],
   "source": [
    "fig, ax = plt.subplots(2, 2, figsize=(27, 20), sharex=True, sharey=True)\n",
    "\n",
    "# # Define new cmap viridis_white\n",
    "# cm_init = sns.color_palette(\"flare\", 256, as_cmap=True)\n",
    "# newcolors = cm_init(np.linspace(0, 1, 256))[50:]\n",
    "# cm = colors.ListedColormap(newcolors, name=\"flare_short\")\n",
    "\n",
    "# cm = sns.color_palette(\"flare\", as_cmap=True)\n",
    "import colorcet as cc\n",
    "\n",
    "cm = cc.cm.rainbow\n",
    "\n",
    "sp = ax[0, 0].scatter(\n",
    "    embedding[:, 0],\n",
    "    embedding[:, 1],\n",
    "    c=z_phot_test,\n",
    "    cmap=cm,\n",
    "    vmin=0,\n",
    "    vmax=0.3,\n",
    "    marker=\".\",\n",
    "    rasterized=True,\n",
    ")\n",
    "cbar = fig.colorbar(\n",
    "    sp, ax=ax[0, 0], boundaries=np.linspace(0, 0.4, 200), ticks=np.linspace(0, 0.4, 9)\n",
    ")\n",
    "cbar.ax.tick_params(labelsize=20)\n",
    "cbar.set_label(r\"$z_{\\mathrm{phot}}$\", fontsize=50)\n",
    "ax[0, 0].tick_params(axis=\"both\", which=\"major\", labelsize=25)\n",
    "ax[0, 0].tick_params(axis=\"both\", which=\"minor\", labelsize=25)\n",
    "\n",
    "sp = ax[0, 1].scatter(\n",
    "    embedding[:, 0],\n",
    "    embedding[:, 1],\n",
    "    c=z_spec_test,\n",
    "    cmap=cm,\n",
    "    vmin=0,\n",
    "    vmax=0.3,\n",
    "    marker=\".\",\n",
    "    #     norm = colors.PowerNorm(0.8)\n",
    "    rasterized=True,\n",
    ")\n",
    "ax[0, 1].tick_params(axis=\"both\", which=\"major\", labelsize=25)\n",
    "ax[0, 1].tick_params(axis=\"both\", which=\"minor\", labelsize=25)\n",
    "\n",
    "\n",
    "cbar = fig.colorbar(\n",
    "    sp, ax=ax[0, 1], boundaries=np.linspace(0, 0.4, 200), ticks=np.linspace(0, 0.4, 9)\n",
    ")\n",
    "cbar.ax.tick_params(labelsize=20)\n",
    "cbar.set_label(r\"$z_{\\mathrm{spec}}$\", fontsize=50)\n",
    "\n",
    "from scipy.spatial import cKDTree\n",
    "\n",
    "morpho = np.argmax(y_test, axis =-1).astype(\"bool\")\n",
    "tree = cKDTree(embedding)\n",
    "dd, ii =tree.query(embedding,k=80, n_jobs=-1)\n",
    "spir_frac = np.mean(morpho[ii], axis=-1)\n",
    "\n",
    "cm = plt.cm.get_cmap(\"RdYlBu\")\n",
    "sp = ax[1,0].scatter(\n",
    "    embedding[:, 0],\n",
    "    embedding[:, 1],\n",
    "    c=spir_frac,\n",
    "    marker=\".\",\n",
    "    cmap=cm,\n",
    "    rasterized=True,\n",
    ")\n",
    "ax[1, 0].tick_params(axis=\"both\", which=\"major\", labelsize=25)\n",
    "ax[1, 0].tick_params(axis=\"both\", which=\"minor\", labelsize=25)\n",
    "\n",
    "cbar = fig.colorbar(\n",
    "    sp,\n",
    "    ax=ax[1,0], \n",
    ")\n",
    "cbar.ax.tick_params(labelsize=20)\n",
    "cbar.set_label(\"Neighbourhood Spiral Fraction\", fontsize=40)\n",
    "\n",
    "\n",
    "cm = cc.cm.rainbow\n",
    "err = np.abs(z_spec_test - z_phot_test) / (1 + z_spec_test)\n",
    "sp = ax[1, 1].scatter(\n",
    "    embedding[:, 0],\n",
    "    embedding[:, 1],\n",
    "    c=err,\n",
    "    cmap=cm,\n",
    "#     vmin=0,\n",
    "    vmax=0.03,\n",
    "    marker=\".\",\n",
    "    rasterized=True,\n",
    "    norm=colors.PowerNorm(0.75)\n",
    ")\n",
    "\n",
    "cbar = fig.colorbar(\n",
    "    sp,\n",
    "    ax=ax[1, 1], #boundaries=np.linspace(0, 0.05, 200), ticks=np.linspace(0, 0.05, 9)\n",
    ")\n",
    "cbar.ax.tick_params(labelsize=20)\n",
    "cbar.set_label(r\"$\\mid \\frac{\\Delta z}{1+z_{\\mathrm{spec}}}\\mid$\", fontsize=50)\n",
    "\n",
    "\n",
    "mask = err > 0.05\n",
    "ax[1, 1].scatter(\n",
    "    embedding[:, 0][mask],\n",
    "    embedding[:, 1][mask],\n",
    "    facecolor=\"k\",\n",
    "    edgecolor=\"white\",\n",
    "    marker=\"o\",\n",
    "    label=\"Outliers\",\n",
    "    rasterized=True,\n",
    "    s=150,\n",
    "    \n",
    ")\n",
    "ax[1, 1].legend(\n",
    "    loc=\"upper left\",\n",
    "    prop={\"size\": 25},\n",
    "    markerscale=1,\n",
    "    frameon=False,\n",
    "    handletextpad=0.00001,\n",
    ")\n",
    "ax[1, 1].tick_params(axis=\"both\", which=\"major\", labelsize=25)\n",
    "ax[1, 1].tick_params(axis=\"both\", which=\"minor\", labelsize=25)\n",
    "\n",
    "\n",
    "\n",
    "\n",
    "\n",
    "# sp = ax[1, 1].scatter(\n",
    "#     embedding[:, 0][morpho],\n",
    "#     embedding[:, 1][morpho],\n",
    "#     c=\"C0\",\n",
    "#     marker=\".\",\n",
    "#     label=\"Spirals\",\n",
    "#     alpha=0.4,\n",
    "#     rasterized=True,\n",
    "# )\n",
    "\n",
    "\n",
    "# sp = ax[1, 1].scatter(\n",
    "#     embedding[:, 0][~morpho],\n",
    "#     embedding[:, 1][~morpho],\n",
    "#     c=\"C1\",\n",
    "#     marker=\".\",\n",
    "#     label=\"Ellipticals\",\n",
    "#     alpha=0.4,\n",
    "#     rasterized=True,\n",
    "# )\n",
    "# import matplotlib.lines as mlines\n",
    "\n",
    "# blue_dot = mlines.Line2D(\n",
    "#     [], [], color=\"C0\", marker=\"o\", alpha=0.8, label=\"Spirals\", ls=\"\"\n",
    "# )\n",
    "# orange_dot = mlines.Line2D(\n",
    "#     [], [], color=\"C1\", marker=\"o\", alpha=0.8, label=\"Ellipticals\", ls=\"\"\n",
    "# )\n",
    "# ax[1, 1].legend(\n",
    "#     loc=\"upper left\",\n",
    "#     handles=[blue_dot, orange_dot],\n",
    "#     ncol=1,\n",
    "#     prop={\"size\": 25},\n",
    "#     frameon=False,\n",
    "#     handletextpad=0.00001,\n",
    "#     markerscale=3,\n",
    "# )\n",
    "\n",
    "\n",
    "# # ax[1, 1].legend(loc=\"upper left\", markerscale=5, prop={\"size\": 25})\n",
    "# ax[1, 1].tick_params(axis=\"both\", which=\"major\", labelsize=25)\n",
    "# ax[1, 1].tick_params(axis=\"both\", which=\"minor\", labelsize=25)\n",
    "\n",
    "\n",
    "plt.tight_layout()\n",
    "# # stupid hack to resize the one remaining axis, declare cax or use Gridspec in future\n",
    "# box00 = ax[0, 0].get_position()\n",
    "# box01 = ax[0, 1].get_position()\n",
    "# box10 = ax[1, 0].get_position()\n",
    "# from matplotlib.transforms import Bbox\n",
    "\n",
    "# box11 = Bbox([[box01.x0, box10.y0], [box01.x1, box10.y1]])\n",
    "# ax[1, 1].set_position(box11)\n",
    "\n",
    "fig.text(0.37, -0.03, r\"UMAP Dimension-1\", fontsize=40)\n",
    "fig.text(-0.03, 0.37, r\"UMAP Dimension-2\", rotation=90, fontsize=40)\n",
    "\n",
    "fig.savefig(\"./figs/UMAP_projection_dense_low_res.pdf\", dpi=100, bbox_inches=\"tight\")"
   ]
  },
  {
   "cell_type": "code",
   "execution_count": null,
   "metadata": {},
   "outputs": [],
   "source": [
    "err = (z_spec_test - z_phot_test) / (1 + z_spec_test)\n",
    "\n",
    "# err = err[morpho==0]"
   ]
  },
  {
   "cell_type": "code",
   "execution_count": null,
   "metadata": {},
   "outputs": [],
   "source": [
    "sigma_mad = 1.4826*np.median(np.abs(err-np.median(err)))\n",
    "print(sigma_mad)\n",
    "\n",
    "print(sigma_mad/np.sqrt(2*len(err)))"
   ]
  },
  {
   "cell_type": "code",
   "execution_count": null,
   "metadata": {},
   "outputs": [],
   "source": [
    "f_outlier = np.sum((np.abs(err)>0.05))*100/len(err)\n",
    "print(f_outlier)\n",
    "f_outlier=f_outlier/100\n",
    "print(np.sqrt(len(err)*f_outlier*(1-f_outlier))*100/len(err))"
   ]
  },
  {
   "cell_type": "code",
   "execution_count": null,
   "metadata": {},
   "outputs": [],
   "source": [
    "out = (np.abs(err)>0.05)"
   ]
  },
  {
   "cell_type": "code",
   "execution_count": null,
   "metadata": {},
   "outputs": [],
   "source": [
    "np.sum(out&(morpho))/np.sum(out)"
   ]
  },
  {
   "cell_type": "code",
   "execution_count": null,
   "metadata": {},
   "outputs": [],
   "source": []
  }
 ],
 "metadata": {
  "kernelspec": {
   "display_name": "tf15",
   "language": "python",
   "name": "tf15"
  },
  "language_info": {
   "codemirror_mode": {
    "name": "ipython",
    "version": 3
   },
   "file_extension": ".py",
   "mimetype": "text/x-python",
   "name": "python",
   "nbconvert_exporter": "python",
   "pygments_lexer": "ipython3",
   "version": "3.6.13"
  },
  "widgets": {
   "application/vnd.jupyter.widget-state+json": {
    "state": {},
    "version_major": 2,
    "version_minor": 0
   }
  }
 },
 "nbformat": 4,
 "nbformat_minor": 4
}
