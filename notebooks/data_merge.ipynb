{
 "cells": [
  {
   "cell_type": "code",
   "execution_count": null,
   "metadata": {},
   "outputs": [],
   "source": [
    "import numpy as np\n",
    "import pandas as pd\n",
    "from pathlib import Path\n",
    "\n",
    "from astropy import units as u\n",
    "from astropy.coordinates import SkyCoord\n",
    "from astropy.table import Table, hstack\n",
    "import matplotlib.pyplot as plt"
   ]
  },
  {
   "cell_type": "markdown",
   "metadata": {},
   "source": [
    "### NYU VAGC (K correct/sersic index) Matching"
   ]
  },
  {
   "cell_type": "code",
   "execution_count": null,
   "metadata": {},
   "outputs": [],
   "source": [
    "data_path = Path(\"/bgfs/jnewman/bid13/photoZ/data/pasquet2019/\")"
   ]
  },
  {
   "cell_type": "code",
   "execution_count": null,
   "metadata": {},
   "outputs": [],
   "source": [
    "kcorr = Table.read(data_path/\"nyu_vagc/kcorrect.none.model.z0.00.fits\")"
   ]
  },
  {
   "cell_type": "code",
   "execution_count": null,
   "metadata": {},
   "outputs": [],
   "source": [
    "sersic = Table.read(data_path/\"nyu_vagc/sersic_catalog.fits\")"
   ]
  },
  {
   "cell_type": "code",
   "execution_count": null,
   "metadata": {},
   "outputs": [],
   "source": [
    "psqt_updated = Table.read(data_path/\"SDSS_inference_johanna.fits\")"
   ]
  },
  {
   "cell_type": "code",
   "execution_count": null,
   "metadata": {},
   "outputs": [],
   "source": [
    "psqt_updated = psqt_updated[['zmean_cnn','zmed_cnn','zpeak_cnn', 'specObjID' ]].to_pandas().convert_dtypes()"
   ]
  },
  {
   "cell_type": "code",
   "execution_count": null,
   "metadata": {},
   "outputs": [],
   "source": [
    "sdss_extra = pd.read_csv(data_path/\"nyu_vagc/pasquet_vagc.csv\").convert_dtypes()\n"
   ]
  },
  {
   "cell_type": "code",
   "execution_count": null,
   "metadata": {},
   "outputs": [],
   "source": [
    "kcorr = hstack([kcorr, sersic], join_type=\"exact\")"
   ]
  },
  {
   "cell_type": "code",
   "execution_count": null,
   "metadata": {},
   "outputs": [],
   "source": [
    "psqt = pd.DataFrame(np.load(data_path/\"sdss.npz\", allow_pickle=True)[\"labels\"])\n",
    "psqt = psqt.merge(sdss_extra, how = \"left\", on =\"specObjID\" )\n",
    "psqt = psqt.merge(psqt_updated, how = \"left\", on = \"specObjID\")\n",
    "# psqt = psqt.drop(\"index\", axis=1)"
   ]
  },
  {
   "cell_type": "code",
   "execution_count": null,
   "metadata": {},
   "outputs": [],
   "source": [
    "psqt_coord = SkyCoord(ra=np.array(psqt[\"ra\"])*u.deg, dec=np.array(psqt[\"dec\"])*u.deg, frame=\"icrs\")"
   ]
  },
  {
   "cell_type": "code",
   "execution_count": null,
   "metadata": {},
   "outputs": [],
   "source": [
    "kcorr_coord = SkyCoord(ra=kcorr[\"RA\"]*u.deg, dec=kcorr[\"DEC\"]*u.deg, frame=\"icrs\")"
   ]
  },
  {
   "cell_type": "code",
   "execution_count": null,
   "metadata": {},
   "outputs": [],
   "source": [
    "idx_psqt, idx_Kcorr, d2d, d3d = kcorr_coord.search_around_sky(psqt_coord, 0.95*u.arcsecond)"
   ]
  },
  {
   "cell_type": "code",
   "execution_count": null,
   "metadata": {},
   "outputs": [],
   "source": [
    "plt.figure(figsize=(16,8))\n",
    "plt.hist(d2d.arcsec, bins=20, histtype=\"step\")\n",
    "plt.yscale(\"log\")"
   ]
  },
  {
   "cell_type": "code",
   "execution_count": null,
   "metadata": {},
   "outputs": [],
   "source": [
    "len(idx_psqt)/len(psqt)"
   ]
  },
  {
   "cell_type": "code",
   "execution_count": null,
   "metadata": {},
   "outputs": [],
   "source": [
    "cross_match_cat = pd.DataFrame({'imageID':idx_psqt,\"idx_Kcorr\":idx_Kcorr, \"d2d\":d2d.arcsec})"
   ]
  },
  {
   "cell_type": "code",
   "execution_count": null,
   "metadata": {},
   "outputs": [],
   "source": [
    "absMag_u = kcorr['ABSMAG'][:,0][idx_Kcorr]\n",
    "absMag_g = kcorr['ABSMAG'][:,1][idx_Kcorr]\n",
    "absMag_r = kcorr['ABSMAG'][:,2][idx_Kcorr]\n",
    "absMag_i = kcorr['ABSMAG'][:,3][idx_Kcorr]\n",
    "absMag_z = kcorr['ABSMAG'][:,4][idx_Kcorr]"
   ]
  },
  {
   "cell_type": "code",
   "execution_count": null,
   "metadata": {},
   "outputs": [],
   "source": [
    "absMagErr_u = 1/np.sqrt(kcorr['ABSMAG_IVAR'][:,0])[idx_Kcorr]\n",
    "absMagErr_g = 1/np.sqrt(kcorr['ABSMAG_IVAR'][:,1])[idx_Kcorr]\n",
    "absMagErr_r = 1/np.sqrt(kcorr['ABSMAG_IVAR'][:,2])[idx_Kcorr]\n",
    "absMagErr_i = 1/np.sqrt(kcorr['ABSMAG_IVAR'][:,3])[idx_Kcorr]\n",
    "absMagErr_z = 1/np.sqrt(kcorr['ABSMAG_IVAR'][:,4])[idx_Kcorr]\n",
    "\n",
    "# ra = kcorr[\"RA\"][idx_Kcorr]\n",
    "# dec = kcorr[\"DEC\"][idx_Kcorr]"
   ]
  },
  {
   "cell_type": "code",
   "execution_count": null,
   "metadata": {},
   "outputs": [],
   "source": [
    "sersicN_u = kcorr[\"SERSIC_N\"][:, 0][idx_Kcorr]\n",
    "sersicN_g = kcorr[\"SERSIC_N\"][:, 1][idx_Kcorr]\n",
    "sersicN_r = kcorr[\"SERSIC_N\"][:, 2][idx_Kcorr]\n",
    "sersicN_i = kcorr[\"SERSIC_N\"][:, 3][idx_Kcorr]\n",
    "sersicN_z = kcorr[\"SERSIC_N\"][:, 4][idx_Kcorr]"
   ]
  },
  {
   "cell_type": "code",
   "execution_count": null,
   "metadata": {},
   "outputs": [],
   "source": [
    "cross_match_cat[\"absMag_u\"] = absMag_u\n",
    "cross_match_cat[\"absMag_g\"] = absMag_g\n",
    "cross_match_cat[\"absMag_r\"] = absMag_r\n",
    "cross_match_cat[\"absMag_i\"] = absMag_i\n",
    "cross_match_cat[\"absMag_z\"] = absMag_z\n",
    "\n",
    "cross_match_cat[\"absMagErr_u\"] = absMagErr_u\n",
    "cross_match_cat[\"absMagErr_g\"] = absMagErr_g\n",
    "cross_match_cat[\"absMagErr_r\"] = absMagErr_r\n",
    "cross_match_cat[\"absMagErr_i\"] = absMagErr_i\n",
    "cross_match_cat[\"absMagErr_z\"] = absMagErr_z\n",
    "\n",
    "cross_match_cat[\"sersicN_u\"] = sersicN_u\n",
    "cross_match_cat[\"sersicN_g\"] = sersicN_g\n",
    "cross_match_cat[\"sersicN_r\"] = sersicN_r\n",
    "cross_match_cat[\"sersicN_i\"] = sersicN_i\n",
    "cross_match_cat[\"sersicN_z\"] = sersicN_z\n",
    "# cross_match_cat[\"ra\"] = ra\n",
    "# cross_match_cat[\"dec\"] = dec"
   ]
  },
  {
   "cell_type": "code",
   "execution_count": null,
   "metadata": {},
   "outputs": [],
   "source": [
    "#Cross check the ones with duplicated matches\n",
    "dups = cross_match_cat[cross_match_cat.duplicated(\"imageID\", keep=False)]\n",
    "dups = dups[np.isfinite(dups.absMagErr_u)]\n",
    "dups = dups[dups.absMag_r<0]\n",
    "dups[dups.duplicated(\"imageID\", keep=False)]"
   ]
  },
  {
   "cell_type": "code",
   "execution_count": null,
   "metadata": {},
   "outputs": [],
   "source": [
    "keep_bool = ~cross_match_cat.duplicated(\"imageID\", keep=False)\n",
    "cross_match_cat = cross_match_cat[keep_bool]"
   ]
  },
  {
   "cell_type": "code",
   "execution_count": null,
   "metadata": {},
   "outputs": [],
   "source": [
    "psqt_merged = psqt.merge(cross_match_cat, how = \"left\", on = \"imageID\")\n",
    "# psqt_merged.to_csv(data_path/\"psqt_vagc_kcorr.csv\", index=False)"
   ]
  },
  {
   "cell_type": "markdown",
   "metadata": {},
   "source": [
    "# GZ1 morph matching"
   ]
  },
  {
   "cell_type": "code",
   "execution_count": null,
   "metadata": {},
   "outputs": [],
   "source": [
    "def agreement(probability):\n",
    "    \"\"\"Returns measure of agreement as defined in Dieleman et al 2015\n",
    "    Args:\n",
    "        probability(array): shape(num_data, num_class)\n",
    "    \"\"\"\n",
    "    n = probability.shape[1]\n",
    "    H = -1 * np.sum(probability * np.nan_to_num(np.log(probability)), axis=-1)\n",
    "\n",
    "    return 1 - (H / np.log(n))"
   ]
  },
  {
   "cell_type": "code",
   "execution_count": null,
   "metadata": {},
   "outputs": [],
   "source": [
    "# Merge debiased classifications\n",
    "gz1 = pd.read_csv(data_path / \"pasquet_gz1_bid13.csv\")\n",
    "\n",
    "prob = np.array(\n",
    "    [\n",
    "        gz1[\"p_el_debiased\"],\n",
    "        gz1[\"p_cs_debiased\"],\n",
    "        \n",
    "    ]\n",
    ").T\n",
    "\n",
    "gz1['gz1Morpho'] = np.argmax(prob, axis=-1)\n",
    "\n",
    "gz1_mask = ((gz1[\"p_el_debiased\"]>=0.8) | (gz1[\"p_cs_debiased\"]>=0.8))\n",
    "\n",
    "gz1_morph = gz1[['specObjID', 'gz1Morpho','p_el_debiased',\"p_cs_debiased\"]][gz1_mask]\n",
    "\n",
    "psqt_merged = psqt_merged.merge(gz1_morph,how='left', on =\"specObjID\" )"
   ]
  },
  {
   "cell_type": "code",
   "execution_count": null,
   "metadata": {},
   "outputs": [],
   "source": [
    "#merge raw classifications\n",
    "gz1 = pd.read_csv(data_path / \"pasquet_gz1_all_bid13.csv\")\n",
    "# gz1['p_un_debiased'] = 1-(gz1['p_el_debiased'] + gz1[\"p_cs_debiased\"])\n",
    "\n",
    "# prob = np.array(\n",
    "#     [\n",
    "#         gz1[\"p_el_debiased\"],\n",
    "#         gz1[\"p_cs_debiased\"],\n",
    "#         gz1[\"p_un_debiased\"],\n",
    "#     ]\n",
    "# ).T\n",
    "\n",
    "# agreed = agreement(prob)>=0.8"
   ]
  },
  {
   "cell_type": "code",
   "execution_count": null,
   "metadata": {},
   "outputs": [],
   "source": [
    "prob = np.array(\n",
    "    [\n",
    "        gz1[\"p_el\"],\n",
    "        gz1[\"p_cs\"],\n",
    "        gz1[\"p_mg\"],\n",
    "        gz1[\"p_dk\"],\n",
    "    ]\n",
    ").T\n",
    "\n",
    "# gz1['gz1Morpho'] = np.argmax(prob, axis=-1)\n",
    "\n",
    "\n",
    "gz1_morph = gz1[['specObjID','p_el',\"p_cs\",\"p_mg\",\"p_dk\" ]]"
   ]
  },
  {
   "cell_type": "code",
   "execution_count": null,
   "metadata": {},
   "outputs": [],
   "source": [
    "psqt_merged = psqt_merged.merge(gz1_morph,how='left', on =\"specObjID\" )"
   ]
  },
  {
   "cell_type": "markdown",
   "metadata": {},
   "source": [
    "### Merge with Dominguez-Sanchez Morpho cat"
   ]
  },
  {
   "cell_type": "code",
   "execution_count": null,
   "metadata": {},
   "outputs": [],
   "source": [
    "ml_morph = Table.read(data_path/\"ZOO_model_full_catalogue.fit\")\n",
    "# Astropy converts everything to float objIDs should be int\n",
    "ml_morph_df = ml_morph.to_pandas()\n",
    "ml_morph_df = ml_morph_df.drop([\"dr7objid\",\"galcount\"], axis=1)\n",
    "ml_morph_df[\"dr7ObjID\"] = ml_morph[\"dr7objid\"].astype('Int64')\n",
    "ml_morph_df = ml_morph_df.convert_dtypes()"
   ]
  },
  {
   "cell_type": "code",
   "execution_count": null,
   "metadata": {},
   "outputs": [],
   "source": [
    "psqt_merged = psqt_merged.merge(ml_morph_df,how='left', on =\"dr7ObjID\" )"
   ]
  },
  {
   "cell_type": "markdown",
   "metadata": {},
   "source": [
    "## Save the data"
   ]
  },
  {
   "cell_type": "code",
   "execution_count": null,
   "metadata": {},
   "outputs": [],
   "source": [
    "labels = psqt_merged.to_records(index=False)"
   ]
  },
  {
   "cell_type": "code",
   "execution_count": null,
   "metadata": {},
   "outputs": [],
   "source": [
    "np.savez(data_path/\"sdss_vagc\", cube =np.load(data_path/\"sdss.npz\", allow_pickle=True)[\"cube\"], labels=labels)"
   ]
  }
 ],
 "metadata": {
  "kernelspec": {
   "display_name": "tf15",
   "language": "python",
   "name": "tf15"
  },
  "language_info": {
   "codemirror_mode": {
    "name": "ipython",
    "version": 3
   },
   "file_extension": ".py",
   "mimetype": "text/x-python",
   "name": "python",
   "nbconvert_exporter": "python",
   "pygments_lexer": "ipython3",
   "version": "3.6.13"
  },
  "widgets": {
   "application/vnd.jupyter.widget-state+json": {
    "state": {},
    "version_major": 2,
    "version_minor": 0
   }
  }
 },
 "nbformat": 4,
 "nbformat_minor": 4
}
