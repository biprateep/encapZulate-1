{
 "cells": [
  {
   "cell_type": "code",
   "execution_count": null,
   "metadata": {},
   "outputs": [],
   "source": [
    "import numpy as np\n",
    "import pandas as pd\n",
    "import matplotlib.pyplot as plt\n",
    "import seaborn as sns\n",
    "from scipy import stats\n",
    "params = {\n",
    "    \"legend.fontsize\": \"x-large\",\n",
    "    \"axes.labelsize\": \"x-large\",\n",
    "    \"axes.titlesize\": \"x-large\",\n",
    "    \"xtick.labelsize\": \"x-large\",\n",
    "    \"ytick.labelsize\": \"x-large\",\n",
    "    \"figure.facecolor\": \"w\",\n",
    "    \"xtick.top\": True,\n",
    "    \"ytick.right\": True,\n",
    "    \"xtick.direction\": \"in\",\n",
    "    \"ytick.direction\": \"in\",\n",
    "    \"font.family\": \"serif\",\n",
    "    \"mathtext.fontset\": \"dejavuserif\",\n",
    "}\n",
    "plt.rcParams.update(params)"
   ]
  },
  {
   "cell_type": "code",
   "execution_count": null,
   "metadata": {},
   "outputs": [],
   "source": [
    "data = np.load(\"./z_phot/all_paper1_regression_80perc_0_100.npz\", allow_pickle=True)"
   ]
  },
  {
   "cell_type": "code",
   "execution_count": null,
   "metadata": {},
   "outputs": [],
   "source": [
    "cat_test = data[\"cat_test\"]\n",
    "y_caps_all = data[\"y_caps_all_test\"]\n",
    "y_prob = data[\"y_prob_test\"]"
   ]
  },
  {
   "cell_type": "code",
   "execution_count": null,
   "metadata": {},
   "outputs": [],
   "source": [
    "morpho = np.argmax(y_prob, axis =-1)\n",
    "caps = y_caps_all[range(len(y_caps_all)),morpho,:]"
   ]
  },
  {
   "cell_type": "code",
   "execution_count": null,
   "metadata": {},
   "outputs": [],
   "source": [
    "dim_names = [str(i+1) for i in range(16)]\n",
    "caps = pd.DataFrame(caps, columns=dim_names)\n",
    "# caps[\"Caps Length\"] = np.max(y_prob, axis=-1)\n",
    "dim_names = list(caps.columns)"
   ]
  },
  {
   "cell_type": "code",
   "execution_count": null,
   "metadata": {},
   "outputs": [],
   "source": [
    "fig, ax = plt.subplots(1,1)\n",
    "cbar = ax.matshow(caps.corr(), cmap =\"coolwarm\", vmin=-1, vmax=1)\n",
    "fig.colorbar(cbar)\n",
    "xaxis = np.arange(len(dim_names))\n",
    "ax.set_xticks(xaxis)\n",
    "ax.set_yticks(xaxis)\n",
    "ax.set_xticklabels(dim_names, rotation=\"vertical\")\n",
    "ax.set_yticklabels(dim_names)\n",
    "plt.show()"
   ]
  },
  {
   "cell_type": "code",
   "execution_count": null,
   "metadata": {},
   "outputs": [],
   "source": [
    "extra_cat = np.load(\n",
    "    \"/data/bid13/photoZ/data/pasquet2019/sdss_vagc.npz\", allow_pickle=True\n",
    ")[\"labels\"]\n",
    "extra_cat = pd.DataFrame(\n",
    "    {\n",
    "        \"specObjID\": extra_cat[\"specObjID\"],\n",
    "        \"sersic_R50_r\": extra_cat[\"sersic_R50_r\"],\n",
    "        \"sersic_R90_r\": extra_cat[\"sersic_R90_r\"],\n",
    "        \"sersic_R0_r\": extra_cat[\"sersic_R0_r\"],\n",
    "#         \"sersicN_r\": extra_cat[\"sersicN_r\"],\n",
    "    }\n",
    ")"
   ]
  },
  {
   "cell_type": "code",
   "execution_count": null,
   "metadata": {},
   "outputs": [],
   "source": [
    "# plt.scatter(extra_cat[\"sersicN_r\"],extra_cat[\"sersic_R50_r\"],marker=\".\")\n",
    "# plt.xlabel(\"n\")\n",
    "# plt.ylabel(\"R\")\n"
   ]
  },
  {
   "cell_type": "code",
   "execution_count": null,
   "metadata": {},
   "outputs": [],
   "source": [
    "cat_test = pd.DataFrame(cat_test)\n",
    "cat_test = cat_test.merge(extra_cat, how=\"left\", on=\"specObjID\")"
   ]
  },
  {
   "cell_type": "code",
   "execution_count": null,
   "metadata": {},
   "outputs": [],
   "source": [
    "cat = pd.DataFrame()\n",
    "\n",
    "\n",
    "# cat[\"EBV\"] = cat_test[\"EBV\"]\n",
    "cat[\"u\"] = cat_test[\"cModelMag_u\"]- cat_test[\"extinction_u\"]\n",
    "cat[\"g\"] = cat_test[\"cModelMag_g\"]- cat_test[\"extinction_g\"]\n",
    "cat[\"r\"] = cat_test[\"cModelMag_r\"]- cat_test[\"extinction_r\"]\n",
    "cat[\"i\"] = cat_test[\"cModelMag_i\"]- cat_test[\"extinction_i\"]\n",
    "cat[\"z\"] = cat_test[\"cModelMag_z\"]- cat_test[\"extinction_z\"]\n",
    "cat[\"u-g\"] = (cat_test[\"modelMag_u\"] - cat_test[\"extinction_u\"]) - (\n",
    "    cat_test[\"modelMag_g\"] - cat_test[\"extinction_g\"]\n",
    ")\n",
    "cat[\"u-r\"] = (cat_test[\"modelMag_u\"] - cat_test[\"extinction_u\"]) - (\n",
    "    cat_test[\"modelMag_r\"] - cat_test[\"extinction_r\"]\n",
    ")\n",
    "cat[\"u-i\"] = (cat_test[\"modelMag_u\"] - cat_test[\"extinction_u\"]) - (\n",
    "    cat_test[\"modelMag_i\"] - cat_test[\"extinction_i\"]\n",
    ")\n",
    "cat[\"u-z\"] = (cat_test[\"modelMag_u\"] - cat_test[\"extinction_u\"]) - (\n",
    "    cat_test[\"modelMag_z\"] - cat_test[\"extinction_z\"]\n",
    ")\n",
    "cat[\"g-r\"] = (cat_test[\"modelMag_g\"] - cat_test[\"extinction_g\"]) - (\n",
    "    cat_test[\"modelMag_r\"] - cat_test[\"extinction_r\"]\n",
    ")\n",
    "cat[\"g-i\"] = (cat_test[\"modelMag_g\"] - cat_test[\"extinction_g\"]) - (\n",
    "    cat_test[\"modelMag_i\"] - cat_test[\"extinction_i\"]\n",
    ")\n",
    "cat[\"g-z\"] = (cat_test[\"modelMag_g\"] - cat_test[\"extinction_g\"]) - (\n",
    "    cat_test[\"modelMag_z\"] - cat_test[\"extinction_z\"]\n",
    ")\n",
    "cat[\"r-i\"] = (cat_test[\"modelMag_r\"] - cat_test[\"extinction_r\"]) - (\n",
    "    cat_test[\"modelMag_i\"] - cat_test[\"extinction_i\"]\n",
    ")\n",
    "cat[\"r-z\"] = (cat_test[\"modelMag_r\"] - cat_test[\"extinction_r\"]) - (\n",
    "    cat_test[\"modelMag_z\"] - cat_test[\"extinction_z\"]\n",
    ")\n",
    "cat[\"i-z\"] = (cat_test[\"modelMag_i\"] - cat_test[\"extinction_i\"]) - (\n",
    "    cat_test[\"modelMag_z\"] - cat_test[\"extinction_z\"]\n",
    ")\n",
    "\n",
    "cat[\"sersicN_r\"] = cat_test[\"sersicN_r\"]\n",
    "# cat[\"deVRad_r\"] = cat_test[\"deVRad_r\"]\n",
    "# cat[\"sersic_R50_r\"] = cat_test[\"sersic_R50_r\"]\n",
    "cat[\"sersic_R90_r\"] = cat_test[\"sersic_R90_r\"]\n",
    "# cat[\"sersic_R0_r\"] = cat_test[\"sersic_R0_r\"]\n",
    "\n",
    "\n",
    "cat[\"z_spec\"] = cat_test[\"z\"]\n",
    "cat[\"absMag_u\"] = cat_test[\"absMag_u\"]\n",
    "cat[\"absMag_g\"] = cat_test[\"absMag_g\"]\n",
    "cat[\"absMag_r\"] = cat_test[\"absMag_r\"]\n",
    "cat[\"absMag_i\"] = cat_test[\"absMag_i\"]\n",
    "cat[\"absMag_z\"] = cat_test[\"absMag_z\"]\n",
    "cat[\"lgm_tot_p50\"] = cat_test[\"lgm_tot_p50\"]\n",
    "cat[\"sfr_tot_p50\"] = cat_test[\"sfr_tot_p50\"]\n",
    "cat[\"specsfr_tot_p50\"] = cat_test[\"specsfr_tot_p50\"]\n",
    "cat[\"v_disp\"] = cat_test[\"v_disp\"]\n",
    "# cat[\"bptclass\"] = cat_test[\"bptclass\"]\n",
    "# cat[\"age_mean\"] = cat_test[\"age_mean\"]\n",
    "# cat[\"ssfr_mean\"] = cat_test[\"ssfr_mean\"]\n",
    "# cat[\"logMass_median\"] = cat_test[\"logMass_median\"]\n",
    "# cat[\"sersicN_u\"] = cat_test[\"sersicN_u\"]\n",
    "# cat[\"sersicN_g\"] = cat_test[\"sersicN_g\"]\n",
    "# cat[\"sersicN_i\"] = cat_test[\"sersicN_i\"]\n",
    "# cat[\"sersicN_z\"] = cat_test[\"sersicN_z\"]\n",
    "\n",
    "# cat[\"fracDev_r\"] = cat_test[\"fracDev_r\"]\n",
    "# cat[\"deVAB_r\"] = cat_test[\"deVAB_r\"]\n",
    "# cat[\"expAB_r\"] = cat_test[\"expAB_r\"]\n",
    "# cat[\"petroR90_r\"] = cat_test[\"petroR90_r\"]\n",
    "\n",
    "\n",
    "# cat[\"P_disk\"] = cat_test[\"P_disk\"]\n",
    "# cat[\"P_edge_on\"] = cat_test[\"P_edge_on\"]\n",
    "# cat[\"modelMag_u\"] = cat_test[\"modelMag_u\"]\n",
    "# cat[\"modelMag_g\"] = cat_test[\"modelMag_g\"]\n",
    "# cat[\"modelMag_r\"] = cat_test[\"modelMag_r\"]\n",
    "# cat[\"modelMag_i\"] = cat_test[\"modelMag_i\"]\n",
    "\n",
    "\n",
    "mask = np.all(np.isfinite(cat), axis =1)\n",
    "cat_corr = np.array(cat)\n",
    "caps_corr= np.array(caps)"
   ]
  },
  {
   "cell_type": "markdown",
   "metadata": {},
   "source": [
    "# Distance Correlation"
   ]
  },
  {
   "cell_type": "code",
   "execution_count": null,
   "metadata": {},
   "outputs": [],
   "source": [
    "import dcor"
   ]
  },
  {
   "cell_type": "code",
   "execution_count": null,
   "metadata": {},
   "outputs": [],
   "source": [
    "nmad_threshold = 5"
   ]
  },
  {
   "cell_type": "code",
   "execution_count": null,
   "metadata": {},
   "outputs": [],
   "source": [
    "caps_dim = caps_corr.shape[1]\n",
    "num_features = cat_corr.shape[1]\n",
    "dcorr_mat = np.zeros((num_features, caps_dim))\n",
    "for i in range(num_features):\n",
    "    x = caps_corr.T\n",
    "    y = cat_corr[:,i]\n",
    "    finite_mask = np.isfinite(y)\n",
    "    y = y[finite_mask]\n",
    "    x = x[:,finite_mask]\n",
    "    median = np.median(y)\n",
    "    nmad = np.abs(stats.median_abs_deviation(y, scale=\"normal\"))\n",
    "    mad_mask = (y>= (median - nmad_threshold*nmad)) & (y<= (median + nmad_threshold*nmad))\n",
    "    y = y[mad_mask]\n",
    "    x = x[:,mad_mask]\n",
    "    y = np.repeat(y[np.newaxis,:], x.shape[0], 0)\n",
    "    dcorr_mat[i] = dcor.rowwise(dcor.distance_correlation, x, y, compile_mode=dcor.CompileMode.COMPILE_PARALLEL)\n",
    "    print(f\"{cat.columns.to_list()[i]} percent rejected: {(~mad_mask).sum()*100/len(mad_mask)}\")"
   ]
  },
  {
   "cell_type": "code",
   "execution_count": null,
   "metadata": {
    "tags": []
   },
   "outputs": [],
   "source": [
    "y_labels_phot = [\n",
    "    r\"$u$\",\n",
    "    r\"$g$\",\n",
    "    r\"$r$\",\n",
    "    r\"$i$\",\n",
    "    r\"$z$\",\n",
    "    r\"$u-g$\",\n",
    "    r\"$u-r$\",\n",
    "    r\"$u-i$\",\n",
    "    r\"$u-z$\",\n",
    "    r\"$g-r$\",\n",
    "    r\"$g-i$\",\n",
    "    r\"$g-z$\",\n",
    "    r\"$r-i$\",\n",
    "    r\"$r-z$\",\n",
    "    r\"$i-z$\",\n",
    "    r\"$n_{r}$\",\n",
    "    r\"$R_{90, r}$\",\n",
    "]\n",
    "\n",
    "y_labels_spec = [\n",
    "    r\"$z_{spec}$\",\n",
    "    r\"$\\mathrm{M}_{u}$\",\n",
    "    r\"$\\mathrm{M}_{g}$\",\n",
    "    r\"$\\mathrm{M}_{r}$\",\n",
    "    r\"$\\mathrm{M}_{i}$\",\n",
    "    r\"$\\mathrm{M}_{z}$\",\n",
    "    \"log(M$_{\\star}$)\",\n",
    "    \"log(SFR)\",\n",
    "    \"log(sSFR)\",\n",
    "    r\"$\\sigma_{v}$\",\n",
    "]\n",
    "fig, ax = plt.subplots(2, 1, figsize=(25, 20), sharex=True, gridspec_kw={'height_ratios': [1.7, 1]})\n",
    "_ = sns.heatmap(\n",
    "    dcorr_mat[:17],\n",
    "    linewidths=0.2,\n",
    "    annot=True,\n",
    "    cmap=\"rocket\",\n",
    "    cbar=False,\n",
    "    xticklabels=dim_names,\n",
    "    yticklabels=y_labels_phot,\n",
    "    #     yticklabels=cat.columns.to_list(),\n",
    "    ax=ax[0],\n",
    "    robust=True,\n",
    "    annot_kws={\"fontsize\": 20},\n",
    "    vmin=0,\n",
    "    vmax=1,\n",
    ")\n",
    "\n",
    "_ = sns.heatmap(\n",
    "    dcorr_mat[17:],\n",
    "    linewidths=0.2,\n",
    "    annot=True,\n",
    "    cmap=\"rocket\",\n",
    "    cbar=False,\n",
    "    xticklabels=dim_names,\n",
    "    yticklabels=y_labels_spec,\n",
    "    #     yticklabels=cat.columns.to_list(),\n",
    "    ax=ax[1],\n",
    "    robust=True,\n",
    "    annot_kws={\"fontsize\": 20},\n",
    "    vmin=0,\n",
    "    vmax=1,\n",
    ")\n",
    "fig.subplots_adjust(hspace=0.05)\n",
    "\n",
    "cbar = fig.colorbar(ax[0].collections[0], ax=ax)\n",
    "cbar.ax.tick_params(axis=\"both\", which=\"major\", labelsize=25)\n",
    "cbar.ax.set_ylabel(\"Distance Correlation\", fontsize=40, labelpad=30)\n",
    "\n",
    "\n",
    "ax[0].tick_params(axis=\"both\", which=\"major\", labelsize=25, labeltop=True, bottom=False, top=True, left=True, right=False)\n",
    "ax[0].tick_params(axis=\"both\", which=\"minor\", labelsize=25)\n",
    "\n",
    "ax[1].tick_params(axis=\"both\", which=\"major\", labelsize=25, labeltop=False, bottom=True, top=False, left=True, right=False)\n",
    "ax[1].tick_params(axis=\"both\", which=\"minor\", labelsize=25)\n",
    "\n",
    "\n",
    "ax[1].set_xlabel(\"Capsule Dimension\", size=40)\n",
    "fig.text(0.05,0.4,\"Galaxy Property\", size=40, rotation=90 )\n",
    "\n",
    "fig.savefig(\"./figs/correlations.pdf\", dpi=300, bbox_inches=\"tight\")"
   ]
  },
  {
   "cell_type": "code",
   "execution_count": null,
   "metadata": {},
   "outputs": [],
   "source": [
    "# plt.scatter(cat[\"sersicN_r\"],cat[\"sersic_R50_r\"],marker=\".\")\n",
    "# plt.xlabel(\"n\")\n",
    "# plt.ylabel(\"R\")\n"
   ]
  },
  {
   "cell_type": "markdown",
   "metadata": {},
   "source": [
    "### Correlations among capsule dims"
   ]
  },
  {
   "cell_type": "code",
   "execution_count": null,
   "metadata": {},
   "outputs": [],
   "source": [
    "caps_dim = caps_corr.shape[1]\n",
    "dcorr_caps_mat = np.zeros((caps_dim, caps_dim))\n",
    "for i in range(caps_dim):\n",
    "    x = caps_corr.T\n",
    "    y = caps_corr[:,i]\n",
    "    y = np.repeat(y[np.newaxis,:], x.shape[0], 0)\n",
    "    dcorr_caps_mat[i] = dcor.rowwise(dcor.distance_correlation, x, y, compile_mode=dcor.CompileMode.COMPILE_PARALLEL)"
   ]
  },
  {
   "cell_type": "code",
   "execution_count": null,
   "metadata": {},
   "outputs": [],
   "source": [
    "fig, ax = plt.subplots(1, 1, figsize=(25, 20))\n",
    "ax = sns.heatmap(\n",
    "    dcorr_caps_mat,\n",
    "    linewidths=0.2,\n",
    "    annot=True,\n",
    "    cmap=\"rocket\",\n",
    "    xticklabels=dim_names,\n",
    "    yticklabels=dim_names,\n",
    "#     yticklabels=cat.columns.to_list(),\n",
    "    ax=ax,\n",
    "    robust=True,\n",
    "    annot_kws={\"fontsize\": 20},\n",
    "    vmin=0,\n",
    "    vmax=1,\n",
    ")\n",
    "cbar = ax.collections[0].colorbar\n",
    "cbar.ax.tick_params(axis=\"both\", which=\"major\", labelsize=25)\n",
    "cbar.ax.set_ylabel(\"Distance Correlation\", fontsize=40)\n",
    "ax.tick_params(axis=\"both\", which=\"major\", labelsize=25, labeltop=True)\n",
    "ax.tick_params(axis=\"both\", which=\"minor\", labelsize=25)\n",
    "ax.set_xlabel(\"Capsule Dimension\", size=40)\n",
    "ax.set_ylabel(\"Capsule Dimension\", size=40)\n",
    "fig.savefig(\"./figs/correlations.pdf\", dpi=300, bbox_inches=\"tight\")"
   ]
  },
  {
   "cell_type": "code",
   "execution_count": null,
   "metadata": {},
   "outputs": [],
   "source": [
    "from scipy.cluster import hierarchy\n",
    "from scipy.spatial.distance import squareform"
   ]
  },
  {
   "cell_type": "code",
   "execution_count": null,
   "metadata": {},
   "outputs": [],
   "source": [
    "corr_linkage = hierarchy.linkage(dcorr_caps_mat, method=\"ward\")#, optimal_ordering=True)"
   ]
  },
  {
   "cell_type": "code",
   "execution_count": null,
   "metadata": {},
   "outputs": [],
   "source": [
    "fig, (ax1, ax2) = plt.subplots(1, 2, figsize=(30,15))\n",
    "dendro = hierarchy.dendrogram(corr_linkage, labels=dim_names, leaf_rotation=90, ax=ax1,)\n",
    "\n",
    "dendro_idx = np.arange(0, len(dendro['ivl']))\n",
    "\n",
    "\n",
    "ax2 = sns.heatmap(\n",
    "    dcorr_caps_mat[dendro['leaves'], :][:, dendro['leaves']],\n",
    "    linewidths=0.2,\n",
    "    annot=True,\n",
    "    cmap=\"rocket\",\n",
    "    xticklabels=dendro['ivl'],\n",
    "    yticklabels=dendro['ivl'],\n",
    "#     yticklabels=cat.columns.to_list(),\n",
    "    ax=ax2,\n",
    "    robust=True,\n",
    "    annot_kws={\"fontsize\": 20},\n",
    "    vmin=0,\n",
    "    vmax=1,\n",
    ")\n",
    "cbar = ax2.collections[0].colorbar\n",
    "cbar.ax.tick_params(axis=\"both\", which=\"major\", labelsize=25)\n",
    "cbar.ax.set_ylabel(\"Distance Correlation\", fontsize=40)\n",
    "ax2.tick_params(axis=\"both\", which=\"major\", labelsize=25, labeltop=True)\n",
    "ax2.tick_params(axis=\"both\", which=\"minor\", labelsize=25)\n",
    "ax2.set_xlabel(\"Capsule Dimension\", size=40)\n",
    "ax2.set_ylabel(\"Capsule Dimension\", size=40)\n",
    "fig.tight_layout()\n",
    "plt.show()\n",
    "\n",
    "\n",
    "\n"
   ]
  },
  {
   "cell_type": "code",
   "execution_count": null,
   "metadata": {},
   "outputs": [],
   "source": [
    "from collections import defaultdict\n",
    "cluster_ids = hierarchy.fcluster(corr_linkage, 0.5, criterion='distance')\n",
    "cluster_id_to_feature_ids = defaultdict(list)\n",
    "for idx, cluster_id in enumerate(cluster_ids):\n",
    "    cluster_id_to_feature_ids[cluster_id].append(idx)\n",
    "selected_features = [v[0]+1 for v in cluster_id_to_feature_ids.values()]"
   ]
  },
  {
   "cell_type": "code",
   "execution_count": null,
   "metadata": {},
   "outputs": [],
   "source": [
    "selected_features"
   ]
  },
  {
   "cell_type": "markdown",
   "metadata": {},
   "source": [
    "# Spearman's correlation (not for paper)"
   ]
  },
  {
   "cell_type": "code",
   "execution_count": null,
   "metadata": {},
   "outputs": [],
   "source": [
    "from scipy.stats import spearmanr"
   ]
  },
  {
   "cell_type": "code",
   "execution_count": null,
   "metadata": {},
   "outputs": [],
   "source": [
    "spearman_corr = spearmanr(cat_corr[mask],caps_corr[mask],)[0]\n",
    "spearman_corr = spearman_corr[:cat.shape[1],cat.shape[1]:]"
   ]
  },
  {
   "cell_type": "code",
   "execution_count": null,
   "metadata": {},
   "outputs": [],
   "source": [
    "plt.figure(figsize=(20,15))\n",
    "sns.heatmap(spearman_corr, annot=True, cmap=\"icefire\", xticklabels=dim_names, yticklabels=cat.columns.to_list())"
   ]
  },
  {
   "cell_type": "code",
   "execution_count": null,
   "metadata": {},
   "outputs": [],
   "source": []
  }
 ],
 "metadata": {
  "kernelspec": {
   "display_name": "tf15",
   "language": "python",
   "name": "tf15"
  },
  "language_info": {
   "codemirror_mode": {
    "name": "ipython",
    "version": 3
   },
   "file_extension": ".py",
   "mimetype": "text/x-python",
   "name": "python",
   "nbconvert_exporter": "python",
   "pygments_lexer": "ipython3",
   "version": "3.6.13"
  },
  "widgets": {
   "application/vnd.jupyter.widget-state+json": {
    "state": {},
    "version_major": 2,
    "version_minor": 0
   }
  }
 },
 "nbformat": 4,
 "nbformat_minor": 4
}
