{
 "cells": [
  {
   "cell_type": "code",
   "execution_count": null,
   "metadata": {},
   "outputs": [],
   "source": [
    "from pathlib import Path\n",
    "\n",
    "import numpy as np\n",
    "import matplotlib.pyplot as plt\n",
    "import pandas as pd\n",
    "from sklearn.neighbors import KernelDensity\n",
    "from scipy import stats\n",
    "from scipy.interpolate import interp1d"
   ]
  },
  {
   "cell_type": "code",
   "execution_count": null,
   "metadata": {},
   "outputs": [],
   "source": [
    "data_path = Path(\"/bgfs/jnewman/bid13/photoZ/data/pasquet2019\")\n",
    "\n",
    "file_path = data_path/ \"sdss_vagc.npz\""
   ]
  },
  {
   "cell_type": "code",
   "execution_count": null,
   "metadata": {},
   "outputs": [],
   "source": [
    "data = np.load(file_path, allow_pickle=True)\n",
    "cat = pd.DataFrame(data[\"labels\"])"
   ]
  },
  {
   "cell_type": "code",
   "execution_count": null,
   "metadata": {},
   "outputs": [],
   "source": [
    "plt.plot(cat.z, cat.dered_petro_r,\".\")"
   ]
  },
  {
   "cell_type": "code",
   "execution_count": null,
   "metadata": {},
   "outputs": [],
   "source": [
    "mask_psqt = (cat[\"dered_petro_r\"]<=17.8)&(cat['z']<=0.4)&( cat['primtarget'] >=64)"
   ]
  },
  {
   "cell_type": "code",
   "execution_count": null,
   "metadata": {},
   "outputs": [],
   "source": [
    "plt.plot(cat.z[mask_psqt], cat.dered_petro_r[mask_psqt],\".\")"
   ]
  },
  {
   "cell_type": "markdown",
   "metadata": {},
   "source": [
    "# Make data for MorphCaps-iter 0"
   ]
  },
  {
   "cell_type": "code",
   "execution_count": null,
   "metadata": {},
   "outputs": [],
   "source": [
    "mask_gz = np.isfinite((cat[mask_psqt]).gz1Morpho)"
   ]
  },
  {
   "cell_type": "code",
   "execution_count": null,
   "metadata": {},
   "outputs": [],
   "source": [
    "print(len(cat[\"z\"][mask_psqt][mask_gz]))\n",
    "plt.hist(cat[\"z\"][mask_psqt][mask_gz],bins=50)\n",
    "plt.yscale(\"log\")\n",
    "plt.show()"
   ]
  },
  {
   "cell_type": "code",
   "execution_count": null,
   "metadata": {},
   "outputs": [],
   "source": [
    "np.savez(\n",
    "    data_path / \"sdss_gz1_final_iter0.npz\",\n",
    "    \n",
    "    cube=(data[\"cube\"][mask_psqt][mask_gz]).astype(\"float16\"),\n",
    "    labels=data[\"labels\"][\"gz1Morpho\"][mask_psqt][mask_gz],\n",
    "    specObjID=data[\"labels\"][\"specObjID\"][mask_psqt][mask_gz],\n",
    "    z=data[\"labels\"][\"z\"][mask_psqt][mask_gz],\n",
    "    cat=data[\"labels\"][mask_psqt][mask_gz],\n",
    "    \n",
    "    cube_x=(data[\"cube\"][mask_psqt][~mask_gz]).astype(\"float16\"),\n",
    "    specObjID_x=data[\"labels\"][\"specObjID\"][mask_psqt][~mask_gz],\n",
    "    z_x=data[\"labels\"][\"z\"][mask_psqt][~mask_gz],\n",
    "    cat_x=data[\"labels\"][mask_psqt][~mask_gz],\n",
    ")"
   ]
  },
  {
   "cell_type": "markdown",
   "metadata": {},
   "source": [
    "### Add extra data after iter 0"
   ]
  },
  {
   "cell_type": "code",
   "execution_count": null,
   "metadata": {},
   "outputs": [],
   "source": [
    "old_data = np.load(data_path/\"sdss_gz1_raw_iter0.npz\",allow_pickle=True)"
   ]
  },
  {
   "cell_type": "code",
   "execution_count": null,
   "metadata": {},
   "outputs": [],
   "source": [
    "new_data = np.load(\"good_ids_raw_iter0.npz\")\n",
    "args = new_data[\"catID\"]\n",
    "new_labels = new_data[\"labels\"]\n",
    "new_specObjID = new_data[\"specObjID\"]\n",
    "non_args = new_data[\"badID\"]"
   ]
  },
  {
   "cell_type": "code",
   "execution_count": null,
   "metadata": {},
   "outputs": [],
   "source": [
    "np.savez(\n",
    "    data_path / \"sdss_gz1_iter1.npz\",\n",
    "    cube=np.concatenate([old_data[\"cube\"], old_data[\"cube_x\"][args]]),\n",
    "    labels=np.concatenate([old_data[\"labels\"], new_labels]),\n",
    "    specObjID=np.concatenate([old_data[\"specObjID\"], new_specObjID]),\n",
    "    z=np.concatenate([old_data[\"z\"], old_data[\"z_x\"][args]]),\n",
    "    cat=np.concatenate([old_data[\"cat\"], old_data[\"cat_x\"][args]]),\n",
    "    \n",
    "    cube_x=old_data[\"cube_x\"][non_args],\n",
    "    specObjID_x=old_data[\"specObjID_x\"][non_args],\n",
    "    z_x=old_data[\"z_x\"][non_args],\n",
    "    cat_x=old_data[\"cat_x\"][non_args]\n",
    "        )"
   ]
  },
  {
   "cell_type": "markdown",
   "metadata": {},
   "source": [
    "# Scale input data"
   ]
  },
  {
   "cell_type": "code",
   "execution_count": null,
   "metadata": {},
   "outputs": [],
   "source": [
    "data = np.load(\"/data/bid13/photoZ/data/pasquet2019/sdss_gz1_final_iter2.npz\",allow_pickle=True)"
   ]
  },
  {
   "cell_type": "code",
   "execution_count": null,
   "metadata": {},
   "outputs": [],
   "source": [
    "stat = np.load(\"img_stat.npz\")\n",
    "m = stat[\"mean\"]\n",
    "s = stat[\"std\"]"
   ]
  },
  {
   "cell_type": "code",
   "execution_count": null,
   "metadata": {},
   "outputs": [],
   "source": [
    "np.savez(\n",
    "    \"/data/bid13/photoZ/data/pasquet2019/sdss_gz1_final_iter2_mean_scaled.npz\",\n",
    "    cube=data[\"cube\"].astype(\"float16\")-m,\n",
    "    labels=data[\"labels\"],\n",
    "    specObjID=data[\"specObjID\"],\n",
    "    z=data[\"z\"],\n",
    "    cat=data[\"cat\"],\n",
    "        )"
   ]
  },
  {
   "cell_type": "code",
   "execution_count": null,
   "metadata": {},
   "outputs": [],
   "source": [
    "np.savez(\n",
    "    \"/data/bid13/photoZ/data/pasquet2019/sdss_gz1_final_iter2_mean_std_scaled.npz\",\n",
    "    cube=(data[\"cube\"].astype(\"float16\")-m)/s,\n",
    "    labels=data[\"labels\"],\n",
    "    specObjID=data[\"specObjID\"],\n",
    "    z=data[\"z\"],\n",
    "    cat=data[\"cat\"],\n",
    "        )"
   ]
  },
  {
   "cell_type": "code",
   "execution_count": null,
   "metadata": {},
   "outputs": [],
   "source": []
  }
 ],
 "metadata": {
  "kernelspec": {
   "display_name": "tf15",
   "language": "python",
   "name": "tf15"
  },
  "language_info": {
   "codemirror_mode": {
    "name": "ipython",
    "version": 3
   },
   "file_extension": ".py",
   "mimetype": "text/x-python",
   "name": "python",
   "nbconvert_exporter": "python",
   "pygments_lexer": "ipython3",
   "version": "3.6.13"
  },
  "widgets": {
   "application/vnd.jupyter.widget-state+json": {
    "state": {},
    "version_major": 2,
    "version_minor": 0
   }
  }
 },
 "nbformat": 4,
 "nbformat_minor": 4
}
