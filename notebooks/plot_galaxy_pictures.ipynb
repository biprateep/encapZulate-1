{
 "cells": [
  {
   "cell_type": "markdown",
   "metadata": {},
   "source": [
    "#### Import neccessary libraries and set paths"
   ]
  },
  {
   "cell_type": "code",
   "execution_count": null,
   "metadata": {},
   "outputs": [],
   "source": [
    "import tensorflow as tf\n",
    "config_tf = tf.ConfigProto()\n",
    "config_tf.gpu_options.allow_growth=True\n",
    "sess = tf.Session(config=config_tf)\n",
    "\n",
    "import json\n",
    "from keras.models import model_from_json\n",
    "\n",
    "import sys\n",
    "from pathlib import Path\n",
    "import matplotlib.pyplot as plt\n",
    "import numpy as np\n",
    "import pandas as pd\n",
    "from keras.utils import multi_gpu_model\n",
    "from sklearn.ensemble import RandomForestRegressor\n",
    "from importlib import reload\n",
    "from pygifsicle import optimize\n",
    "import imageio\n",
    "import os\n",
    "import matplotlib.animation as animation"
   ]
  },
  {
   "cell_type": "code",
   "execution_count": null,
   "metadata": {},
   "outputs": [],
   "source": [
    "params = {\n",
    "    \"legend.fontsize\": \"x-large\",\n",
    "    \"axes.labelsize\": \"x-large\",\n",
    "    \"axes.titlesize\": \"x-large\",\n",
    "    \"xtick.labelsize\": \"x-large\",\n",
    "    \"ytick.labelsize\": \"x-large\",\n",
    "    \"figure.facecolor\": \"w\",\n",
    "    \"xtick.top\": True,\n",
    "    \"ytick.right\": True,\n",
    "    \"xtick.direction\": \"in\",\n",
    "    \"ytick.direction\": \"in\",\n",
    "    \"font.family\": \"serif\",\n",
    "    \"mathtext.fontset\": \"dejavuserif\"\n",
    "}\n",
    "plt.rcParams.update(params)"
   ]
  },
  {
   "cell_type": "code",
   "execution_count": null,
   "metadata": {},
   "outputs": [],
   "source": [
    "# Path where your software library is saved\n",
    "# Clone the latest version of morphCaps branch from github\n",
    "path_photoz = '/home/bid13/code/photozCapsNet'\n",
    "\n",
    "sys.path.insert(1, path_photoz)\n",
    "path_photoz = Path(path_photoz)"
   ]
  },
  {
   "cell_type": "markdown",
   "metadata": {},
   "source": [
    "#### Import custom modules"
   ]
  },
  {
   "cell_type": "code",
   "execution_count": null,
   "metadata": {},
   "outputs": [],
   "source": [
    "from encapzulate.data_loader.data_loader import load_data\n",
    "from encapzulate.utils.fileio import load_model, load_config\n",
    "from encapzulate.utils import metrics\n",
    "from encapzulate.utils.utils import import_model\n",
    "from encapzulate.utils.metrics import Metrics, probs_to_redshifts, bins_to_redshifts\n",
    "reload(metrics)"
   ]
  },
  {
   "cell_type": "markdown",
   "metadata": {},
   "source": [
    "#### Specify the results to be explored"
   ]
  },
  {
   "cell_type": "code",
   "execution_count": null,
   "metadata": {},
   "outputs": [],
   "source": [
    "# Parameters for the exploration\n",
    "run_name = \"paper1_regression_80perc_0\"\n",
    "checkpoint_eval = 100"
   ]
  },
  {
   "cell_type": "code",
   "execution_count": null,
   "metadata": {},
   "outputs": [],
   "source": [
    "#Create and set different paths\n",
    "# path_output = \"/data/bid13/photoZ/results\"\n",
    "path_output = \"/home/bid13/code/photozCapsNet/results\"\n",
    "path_output = Path(path_output)\n",
    "path_results = path_output / run_name.split(\"_\")[0] / run_name / \"results\" \n",
    "path_config =  path_results / \"config.yml\""
   ]
  },
  {
   "cell_type": "markdown",
   "metadata": {},
   "source": [
    "#### Load Config, Model and Data"
   ]
  },
  {
   "cell_type": "code",
   "execution_count": null,
   "metadata": {},
   "outputs": [],
   "source": [
    "config  = load_config(path_config)\n",
    "scale= config['image_scale']"
   ]
  },
  {
   "cell_type": "code",
   "execution_count": null,
   "metadata": {},
   "outputs": [],
   "source": [
    "log = pd.read_csv(path_results/ \"logs\" /\"log.csv\")"
   ]
  },
  {
   "cell_type": "code",
   "execution_count": null,
   "metadata": {},
   "outputs": [],
   "source": [
    "max_acc = log[log.val_decoder_model_loss==log.val_decoder_model_loss.min()]\n",
    "max_acc"
   ]
  },
  {
   "cell_type": "code",
   "execution_count": null,
   "metadata": {},
   "outputs": [],
   "source": [
    "#with tf.device('/cpu:0'):\n",
    "model = load_model( path_results / \"eval_model.json\", path_results/ \"weights\" / f\"weights-{checkpoint_eval:02d}.h5\")\n",
    "# model = multi_gpu_model(model,gpus=2)\n",
    "model.summary()"
   ]
  },
  {
   "cell_type": "code",
   "execution_count": null,
   "metadata": {},
   "outputs": [],
   "source": [
    "(\n",
    "    (x_train, y_train, vals_train, z_spec_train, cat_train),\n",
    "    (x_dev, y_dev, vals_dev, z_spec_dev, cat_dev),\n",
    "    (x_test, y_test, vals_test, z_spec_test, cat_test),\n",
    ") = load_data(load_cat=True, **config)"
   ]
  },
  {
   "cell_type": "markdown",
   "metadata": {},
   "source": [
    "#### Run Predictions"
   ]
  },
  {
   "cell_type": "code",
   "execution_count": null,
   "metadata": {},
   "outputs": [],
   "source": [
    "y_caps_dev, y_caps_all_dev, y_prob_dev, x_recon_dev, z_phot_dev = model.predict(x_dev,batch_size=1024)"
   ]
  },
  {
   "cell_type": "code",
   "execution_count": null,
   "metadata": {},
   "outputs": [],
   "source": [
    "del x_train\n",
    "del x_test\n",
    "# del x_dev\n",
    "# del x_recon_test\n",
    "# del x_recon_dev"
   ]
  },
  {
   "cell_type": "markdown",
   "metadata": {},
   "source": [
    "#### Plot images"
   ]
  },
  {
   "cell_type": "code",
   "execution_count": null,
   "metadata": {},
   "outputs": [],
   "source": [
    "# https://github.com/legacysurvey/imagine/blob/acac773c6a43c7e6d6ea0c128d5e963ad8295229/map/views.py#L3881\n",
    "def sdss_rgb(imgs, bands, scales=None, m=0.02, Q=20, alpha=1, p=0.7):\n",
    "    import numpy as np\n",
    "\n",
    "    rgbscales = {\n",
    "        \"u\": (2, 1.5),  # 1.0,\n",
    "        \"g\": (2, 2.8),\n",
    "        \"r\": (1, 1.4),\n",
    "        \"i\": (0, 1.1),\n",
    "        \"z\": (0, 0.4),  # 0.3\n",
    "    }\n",
    "    if scales is not None:\n",
    "        rgbscales.update(scales)\n",
    "\n",
    "    I = 0\n",
    "    for img, band in zip(imgs, bands):\n",
    "        plane, scale = rgbscales[band]\n",
    "        img = np.maximum(0, img * scale + m)\n",
    "        I = I + img\n",
    "    I /= len(bands)\n",
    "\n",
    "#     Q = 20\n",
    "#     alpha = 1\n",
    "#     p =0.7\n",
    "#     #     fI = np.arcsinh(Q * I) / np.sqrt(Q)\n",
    "    fI = np.arcsinh(alpha * Q * I) / (Q**p)\n",
    "    I += (I == 0.0) * 1e-6\n",
    "    H, W = I.shape\n",
    "    rgb = np.zeros((H, W, 3), np.float32)\n",
    "    for img, band in zip(imgs, bands):\n",
    "        plane, scale = rgbscales[band]\n",
    "        rgb[:, :, plane] = (img * scale + m) * fI / I\n",
    "\n",
    "    # R = fI * r / I\n",
    "    # G = fI * g / I\n",
    "    # B = fI * b / I\n",
    "    # # maxrgb = reduce(np.maximum, [R,G,B])\n",
    "    # # J = (maxrgb > 1.)\n",
    "    # # R[J] = R[J]/maxrgb[J]\n",
    "    # # G[J] = G[J]/maxrgb[J]\n",
    "    # # B[J] = B[J]/maxrgb[J]\n",
    "    # rgb = np.dstack((R,G,B))\n",
    "    rgb = np.clip(rgb, 0, 1)\n",
    "    return rgb"
   ]
  },
  {
   "cell_type": "code",
   "execution_count": null,
   "metadata": {
    "tags": []
   },
   "outputs": [],
   "source": [
    "# from astropy.visualization import make_lupton_rgb\n",
    "\n",
    "# # The function below has not yet been finalized. Can be fine tuned before incorporating into the main code\n",
    "\n",
    "# def plot_image(image, band, scaling=\"linear\", ax=None, show=False, input_bands=None):\n",
    "#     \"\"\"Plot different colored images of galaxies\n",
    "\n",
    "#     Args:\n",
    "#         image (array): five colored sdss image\n",
    "#         band (str): u, g, r, i or z band or gri composite image (also works with 0,1,2,3,4,5 codes)\n",
    "#         scaling: linear or asinh for the single band images. gri images are always asinh scaled\n",
    "#         ax (object): Matplotlib object to plot on\n",
    "#         show (bool): Whether or not to show the plot\n",
    "#         input_bands: use gri if input image has only three colors\n",
    "        \n",
    "#    Returns:\n",
    "#         Matplotlib axis object\n",
    "#     \"\"\"\n",
    "    \n",
    "#     bands = {\"u\":0, \"g\":1, \"r\":2, \"i\":3, \"z\":4, \"gri\":5}\n",
    "    \n",
    "#     assert (band in bands) or (band in bands.values()) , \"Choose from u, g, r, i, z bands or gri composite image\"\n",
    "#     assert (scaling in [\"linear\", \"asinh\"]), \"scaling should be either linear or asinh for the single band images\"\n",
    "    \n",
    "    \n",
    "    \n",
    "#     if ax == None:\n",
    "#         fig, ax = plt.subplots()\n",
    "      \n",
    "#     if (band == \"gri\") or (band==5):\n",
    "#         if input_bands == \"gri\":\n",
    "#             stretch = 1\n",
    "#             Q=8\n",
    "#             scale =1.3\n",
    "#             rgb = make_lupton_rgb(scale*1*image[:,:,2], scale*1.8*image[:,:,1], scale*2.3*image[:,:,0], stretch=stretch, Q=Q)\n",
    "#         else:\n",
    "#             stretch = 1.5\n",
    "#             Q=5\n",
    "#             scale = 1\n",
    "#             rgb = make_lupton_rgb(scale*1*image[:,:,3], scale*1.5*image[:,:,2], scale*2.5*image[:,:,1], stretch=stretch, Q=Q, minimum=-0.02)\n",
    "        \n",
    "#         ax.imshow(rgb, aspect=\"equal\", origin=\"lower\")\n",
    "#         ax.axes.get_xaxis().set_ticks([])\n",
    "#         ax.axes.get_yaxis().set_ticks([])\n",
    "    \n",
    "#     else:\n",
    "        \n",
    "#         if band in bands:\n",
    "#             band = bands[band]\n",
    "#         if scaling == \"linear\":\n",
    "#             ax.imshow(image[:,:,band], aspect=\"equal\", origin=\"lower\", cmap=\"Greys_r\")\n",
    "            \n",
    "#         if scaling == \"asinh\":\n",
    "#             img = make_lupton_rgb(image[:,:,band], image[:,:,band], image[:,:,band], stretch=stretch, Q=Q)\n",
    "#             ax.imshow(img[:,:,0], aspect=\"equal\", origin=\"lower\", cmap=\"Greys_r\")\n",
    "#         ax.axis(\"off\")\n",
    "        \n",
    "    \n",
    "        \n",
    "#     if show:\n",
    "#         plt.show()\n",
    "        \n",
    "#     return ax"
   ]
  },
  {
   "cell_type": "code",
   "execution_count": null,
   "metadata": {},
   "outputs": [],
   "source": [
    "def plot_image(image, band=\"gri\", ax=None, m=0., Q=20, alpha=0.8, p=0.7):\n",
    "    rgb = sdss_rgb(np.moveaxis(image, -1,0)[1:4], [ \"g\", \"r\", \"i\"],m=m, Q=Q, alpha=alpha, p=p)\n",
    "    if ax == None:\n",
    "        fig, ax = plt.subplots()\n",
    "    ax.imshow(rgb, aspect=\"equal\", origin=\"lower\")\n",
    "    ax.axes.get_xaxis().set_ticks([])\n",
    "    ax.axes.get_yaxis().set_ticks([])\n",
    "    return ax"
   ]
  },
  {
   "cell_type": "code",
   "execution_count": null,
   "metadata": {},
   "outputs": [],
   "source": [
    "# index = 0\n",
    "\n",
    "# from scipy import ndimage\n",
    "# fig, ax = plt.subplots(1,2)\n",
    "# ax = ax.ravel()\n",
    "# rgb_obs = sdss_rgb(np.moveaxis(scale*x_dev[index], -1,0)[1:4], [ \"g\", \"r\", \"i\"],m=-0.02)\n",
    "# # rgb_obs = ndimage.median_filter(rgb_obs, 2)\n",
    "\n",
    "# ax[0].imshow(rgb_obs, aspect=\"equal\", origin=\"lower\")\n",
    "# ax[0].set_xlabel(\"Observed\", fontsize=20)\n",
    "# rgb_recon = sdss_rgb(np.moveaxis(scale*x_recon_dev[index], -1,0)[1:4], [ \"g\", \"r\", \"i\"],m =-0.02)\n",
    "# ax[1].imshow(rgb_recon, aspect=\"equal\", origin=\"lower\")\n",
    "# ax[1].set_xlabel(\"Reconstructed\", fontsize=20)"
   ]
  },
  {
   "cell_type": "code",
   "execution_count": null,
   "metadata": {},
   "outputs": [],
   "source": [
    "index = 0\n",
    "\n",
    "fig, ax = plt.subplots(1,2)\n",
    "ax = ax.ravel()\n",
    "plot_image(scale*x_dev[index], \"gri\", ax=ax[0])\n",
    "ax[0].set_xlabel(\"Observed\", fontsize=20)\n",
    "plot_image(scale*x_recon_dev[index], \"gri\", ax=ax[1])\n",
    "ax[1].set_xlabel(\"Reconstructed\", fontsize=20)"
   ]
  },
  {
   "cell_type": "code",
   "execution_count": null,
   "metadata": {},
   "outputs": [],
   "source": [
    "for i in [1,2,3]:\n",
    "    plt.hist(np.ravel(scale*x_dev[index][i]), histtype=\"step\", label=\"observed\")\n",
    "    plt.hist(np.ravel(scale*x_recon_dev[index][i]), histtype=\"step\", label=\"recon\")\n",
    "    plt.legend()\n",
    "    plt.show()"
   ]
  },
  {
   "cell_type": "code",
   "execution_count": null,
   "metadata": {},
   "outputs": [],
   "source": [
    "mean_o = np.mean(scale*x_dev[index], axis=(0,1))\n",
    "std_o = np.std(scale*x_dev[index], axis=(0,1))"
   ]
  },
  {
   "cell_type": "code",
   "execution_count": null,
   "metadata": {},
   "outputs": [],
   "source": [
    "mean_r = np.mean(scale*x_recon_dev[index], axis=(0,1))\n",
    "std_r = np.std(scale*x_recon_dev[index], axis=(0,1))"
   ]
  },
  {
   "cell_type": "code",
   "execution_count": null,
   "metadata": {},
   "outputs": [],
   "source": [
    "index = 0\n",
    "\n",
    "fig, ax = plt.subplots(1,2)\n",
    "ax = ax.ravel()\n",
    "plot_image(scale*x_dev[index], \"gri\", ax=ax[0])\n",
    "ax[0].set_xlabel(\"Observed\", fontsize=20)\n",
    "abcd = (((scale*x_recon_dev[index]-mean_r)/std_r))*std_o + mean_r\n",
    "plot_image(abcd, \"gri\", ax=ax[1])\n",
    "ax[1].set_xlabel(\"Reconstructed\", fontsize=20)"
   ]
  },
  {
   "cell_type": "code",
   "execution_count": null,
   "metadata": {},
   "outputs": [],
   "source": [
    "fig, axs = plt.subplots(3,2, figsize=(7.8,12))\n",
    "axs =axs.flatten()\n",
    "selected_spirals = [0, 14, 13]\n",
    "for i in range(3):\n",
    "    plot_image(scale*x_dev[selected_spirals[i]], \"gri\", ax = axs[2*(i)])\n",
    "    plot_image(scale*x_recon_dev[selected_spirals[i]], \"gri\", ax =axs[2*(i)+1])\n",
    "t = fig.suptitle(\"Spirals\", fontsize=40, y=1.0)\n",
    "axs[-2].set_xlabel(\"Observed\", fontsize=30)\n",
    "axs[-1].set_xlabel(\"Reconstructed\", fontsize=30)\n",
    "plt.tight_layout()\n",
    "fig.savefig(\"./figs/disks.pdf\",bbox_inches='tight',bbox_extra_artists=[t],dpi=300)"
   ]
  },
  {
   "cell_type": "code",
   "execution_count": null,
   "metadata": {},
   "outputs": [],
   "source": [
    "fig, axs = plt.subplots(3,2, figsize=(7.8,12))\n",
    "axs =axs.flatten()\n",
    "selected_spirals = [20, 57, 80]\n",
    "for i in range(3):\n",
    "    plot_image(scale*x_dev[selected_spirals[i]], \"gri\", ax = axs[2*(i)])\n",
    "    plot_image(scale*x_recon_dev[selected_spirals[i]], \"gri\", ax =axs[2*(i)+1])\n",
    "t = fig.suptitle(\"Ellipticals\", fontsize=40, y=1.)\n",
    "axs[-2].set_xlabel(\"Observed\", fontsize=30)\n",
    "axs[-1].set_xlabel(\"Reconstructed\", fontsize=30)\n",
    "plt.tight_layout()\n",
    "fig.savefig(\"./figs/spheroids.pdf\",bbox_inches='tight',bbox_extra_artists=[t],dpi=300)"
   ]
  },
  {
   "cell_type": "code",
   "execution_count": null,
   "metadata": {},
   "outputs": [],
   "source": [
    "#with tf.device('/cpu:0'):\n",
    "model = load_model( path_results / \"train_model.json\", path_results/ \"weights\" / f\"weights-{checkpoint_eval:02d}.h5\")\n",
    "model = multi_gpu_model(model,gpus=2)\n",
    "model.summary()"
   ]
  },
  {
   "cell_type": "code",
   "execution_count": null,
   "metadata": {},
   "outputs": [],
   "source": [
    "config[\"input_shape\"] = config[\"image_shape\"]\n",
    "CapsNet = import_model(model_name=config[\"model_name\"])\n",
    "train_model, eval_model,manipulate_model,decoder_model,redshift_model, = CapsNet(**config)\n",
    "manipulate_model.load_weights(\n",
    "    path_results / \"weights\" / f\"weights-{checkpoint_eval:02d}.h5\", by_name=True\n",
    ")"
   ]
  },
  {
   "cell_type": "markdown",
   "metadata": {},
   "source": [
    "# Tinker All disk"
   ]
  },
  {
   "cell_type": "code",
   "execution_count": null,
   "metadata": {},
   "outputs": [],
   "source": [
    "config[\"input_shape\"] = config[\"image_shape\"]\n",
    "CapsNet = import_model(model_name=config[\"model_name\"])\n",
    "train_model, eval_model,manipulate_model,decoder_model,redshift_model, = CapsNet(**config)\n",
    "manipulate_model.load_weights(\n",
    "    path_results / \"weights\" / f\"weights-{checkpoint_eval:02d}.h5\", by_name=True\n",
    ")\n",
    "\n",
    "\n",
    "\n",
    "\n",
    "img_indx =0 # 20 and 0\n",
    "\n",
    "sigma_arr = np.std(y_caps_dev, axis=0)\n",
    "\n",
    "caps_gal = y_caps_dev[img_indx].copy()\n",
    "\n",
    "change_grid = [-3,-2,-1,0,1,2,3]\n",
    "num_caps=16\n",
    "fig, axs = plt.subplots(num_caps,len(change_grid), figsize=(1.4*8.3,2.1*11.7))\n",
    "\n",
    "\n",
    "for caps_index in range(num_caps):\n",
    "    for j in range(len(change_grid)):\n",
    "        tinkered_dim = caps_gal[caps_index] + change_grid[j] * sigma_arr[caps_index]\n",
    "        tinkered_caps = caps_gal.copy()\n",
    "        tinkered_caps[caps_index] = tinkered_dim\n",
    "        tinkered_recon = decoder_model.predict(np.expand_dims(tinkered_caps, axis=0))[0]\n",
    "        plot_image(scale*tinkered_recon, \"gri\", ax =axs[caps_index][j] )\n",
    "\n",
    "cols = ['{}$\\sigma$'.format(col) for col in change_grid]\n",
    "rows = ['Dim: {}'.format(row) for row in np.arange(1,num_caps+1).astype(str) ]\n",
    "\n",
    "for ax, col in zip(axs[0], cols):\n",
    "    ax.set_title(col, size=25)\n",
    "\n",
    "for ax, row in zip(axs[:,0], rows):\n",
    "    ax.set_ylabel(row, size=23)\n",
    "# fig.suptitle(\"Redshift: \"+ str(z_spec_dev[img_indx]), y =1.01, size=20)\n",
    "plt.tight_layout()\n",
    "fig.savefig(\"./figs/tinker_disk_appendix.pdf\",bbox_inches='tight',dpi=300)"
   ]
  },
  {
   "cell_type": "markdown",
   "metadata": {},
   "source": [
    "# Tinker all spheroid"
   ]
  },
  {
   "cell_type": "code",
   "execution_count": null,
   "metadata": {},
   "outputs": [],
   "source": [
    "config[\"input_shape\"] = config[\"image_shape\"]\n",
    "CapsNet = import_model(model_name=config[\"model_name\"])\n",
    "train_model, eval_model,manipulate_model,decoder_model,redshift_model, = CapsNet(**config)\n",
    "manipulate_model.load_weights(\n",
    "    path_results / \"weights\" / f\"weights-{checkpoint_eval:02d}.h5\", by_name=True\n",
    ")\n",
    "\n",
    "\n",
    "\n",
    "\n",
    "img_indx =20 # 20 and 0\n",
    "\n",
    "sigma_arr = np.std(y_caps_dev, axis=0)\n",
    "\n",
    "caps_gal = y_caps_dev[img_indx].copy()\n",
    "\n",
    "change_grid = [-3,-2,-1,0,1,2,3]\n",
    "num_caps=16\n",
    "fig, axs = plt.subplots(num_caps,len(change_grid), figsize=(1.4*8.3,2.1*11.7))\n",
    "\n",
    "\n",
    "for caps_index in range(num_caps):\n",
    "    for j in range(len(change_grid)):\n",
    "        tinkered_dim = caps_gal[caps_index] + change_grid[j] * sigma_arr[caps_index]\n",
    "        tinkered_caps = caps_gal.copy()\n",
    "        tinkered_caps[caps_index] = tinkered_dim\n",
    "        tinkered_recon = decoder_model.predict(np.expand_dims(tinkered_caps, axis=0))[0]\n",
    "        plot_image(scale*tinkered_recon, \"gri\", ax =axs[caps_index][j] )\n",
    "\n",
    "cols = ['{}$\\sigma$'.format(col) for col in change_grid]\n",
    "rows = ['Dim: {}'.format(row) for row in np.arange(1,num_caps+1).astype(str) ]\n",
    "\n",
    "for ax, col in zip(axs[0], cols):\n",
    "    ax.set_title(col, size=25)\n",
    "\n",
    "for ax, row in zip(axs[:,0], rows):\n",
    "    ax.set_ylabel(row, size=23)\n",
    "# fig.suptitle(\"Redshift: \"+ str(z_spec_dev[img_indx]), y =1.01, size=20)\n",
    "plt.tight_layout()\n",
    "fig.savefig(\"./figs/tinker_spheroid_appendix.pdf\",bbox_inches='tight',dpi=300)"
   ]
  },
  {
   "cell_type": "markdown",
   "metadata": {},
   "source": [
    "# Tinker some"
   ]
  },
  {
   "cell_type": "code",
   "execution_count": null,
   "metadata": {},
   "outputs": [],
   "source": [
    "config[\"input_shape\"] = config[\"image_shape\"]\n",
    "CapsNet = import_model(model_name=config[\"model_name\"])\n",
    "train_model, eval_model,manipulate_model,decoder_model,redshift_model, = CapsNet(**config)\n",
    "manipulate_model.load_weights(\n",
    "    path_results / \"weights\" / f\"weights-{checkpoint_eval:02d}.h5\", by_name=True\n",
    ")\n",
    "\n",
    "\n",
    "img_indx = 20\n",
    "\n",
    "sigma_arr = np.std(y_caps_dev, axis=0)\n",
    "\n",
    "caps_gal = y_caps_dev[img_indx].copy()\n",
    "\n",
    "change_grid = [-3, -2, -1, 0, 1, 2, 3]\n",
    "\n",
    "num_caps=[1,8,12,13]\n",
    "\n",
    "fig, axs = plt.subplots(len(num_caps),len(change_grid), figsize=(15,9))\n",
    "\n",
    "\n",
    "for caps_count, caps_dim in enumerate(num_caps):\n",
    "    for j in range(len(change_grid)):\n",
    "        tinkered_dim = caps_gal[caps_dim] + change_grid[j] * sigma_arr[caps_dim]\n",
    "        tinkered_caps = caps_gal.copy()\n",
    "        tinkered_caps[caps_dim] = tinkered_dim\n",
    "        tinkered_recon = decoder_model.predict(np.expand_dims(tinkered_caps, axis=0))[0]\n",
    "        plot_image(scale*tinkered_recon, \"gri\", ax =axs[caps_count][j] )\n",
    "\n",
    "\n",
    "col_names = [ r\"$-3\\sigma$\", r\"$-2\\sigma$\", r\"$-1\\sigma$\", r\"$0\\sigma$\", r\"$1\\sigma$\", r\"$2\\sigma$\", r\"$3\\sigma$\"]\n",
    "row_names = [\"Size\\n(Dim: 2)\",\"Orientation\\n(Dim: 9)\", \"Bulge\\n(Dim: 13)\", \"Surface\\nBrightness\\n(Dim: 14)\" ]\n",
    "for ax, col in zip(axs[0], col_names):\n",
    "    ax.set_title(col, fontsize=30)\n",
    "\n",
    "for ax, row in zip(axs[:,0], row_names):\n",
    "    ax.set_ylabel(row, fontsize=25)\n",
    "# t=fig.suptitle(\"Spirals\", size=30, y=1.01)\n",
    "plt.tight_layout()\n",
    "fig.savefig(\"./figs/tinker_spheroid.pdf\",bbox_inches=\"tight\")#,bbox_extra_artists=[t])"
   ]
  },
  {
   "cell_type": "code",
   "execution_count": null,
   "metadata": {},
   "outputs": [],
   "source": [
    "config[\"input_shape\"] = config[\"image_shape\"]\n",
    "CapsNet = import_model(model_name=config[\"model_name\"])\n",
    "train_model, eval_model,manipulate_model,decoder_model,redshift_model, = CapsNet(**config)\n",
    "manipulate_model.load_weights(\n",
    "    path_results / \"weights\" / f\"weights-{checkpoint_eval:02d}.h5\", by_name=True\n",
    ")\n",
    "\n",
    "\n",
    "img_indx =0\n",
    "\n",
    "sigma_arr = np.std(y_caps_dev, axis=0)\n",
    "\n",
    "caps_gal = y_caps_dev[img_indx].copy()\n",
    "\n",
    "change_grid = [-3, -2, -1, 0, 1, 2, 3]\n",
    "\n",
    "num_caps=[1,8,12,13]\n",
    "\n",
    "fig, axs = plt.subplots(len(num_caps),len(change_grid), figsize=(15,9))\n",
    "\n",
    "\n",
    "for caps_count, caps_dim in enumerate(num_caps):\n",
    "    for j in range(len(change_grid)):\n",
    "        tinkered_dim = caps_gal[caps_dim] + change_grid[j] * sigma_arr[caps_dim]\n",
    "        tinkered_caps = caps_gal.copy()\n",
    "        tinkered_caps[caps_dim] = tinkered_dim\n",
    "        tinkered_recon = decoder_model.predict(np.expand_dims(tinkered_caps, axis=0))[0]\n",
    "        plot_image(scale*tinkered_recon, \"gri\", ax =axs[caps_count][j] )\n",
    "\n",
    "\n",
    "col_names = [ r\"$-3\\sigma$\", r\"$-2\\sigma$\", r\"$-1\\sigma$\", r\"$0\\sigma$\", r\"$1\\sigma$\", r\"$2\\sigma$\", r\"$3\\sigma$\"]\n",
    "row_names = [\"Size\\n(Dim: 2)\",\"Orientation\\n(Dim: 9)\", \"Bulge\\n(Dim: 13)\", \"Surface\\nBrightness\\n(Dim: 14)\" ]\n",
    "for ax, col in zip(axs[0], col_names):\n",
    "    ax.set_title(col, fontsize=30)\n",
    "\n",
    "for ax, row in zip(axs[:,0], row_names):\n",
    "    ax.set_ylabel(row, fontsize=25)\n",
    "# t=fig.suptitle(\"Spirals\", size=30, y=1.01)\n",
    "plt.tight_layout()\n",
    "fig.savefig(\"./figs/tinker_disk.pdf\",bbox_inches=\"tight\")#,bbox_extra_artists=[t])"
   ]
  },
  {
   "cell_type": "markdown",
   "metadata": {},
   "source": [
    "# GIF for presentation"
   ]
  },
  {
   "cell_type": "code",
   "execution_count": null,
   "metadata": {},
   "outputs": [],
   "source": [
    "img_indx =[0, 20]\n",
    "\n",
    "config[\"input_shape\"] = config[\"image_shape\"]\n",
    "CapsNet = import_model(model_name=config[\"model_name\"])\n",
    "train_model, eval_model,manipulate_model,decoder_model,redshift_model, = CapsNet(**config)\n",
    "manipulate_model.load_weights(\n",
    "    path_results / \"weights\" / f\"weights-{checkpoint_eval:02d}.h5\", by_name=True\n",
    ")"
   ]
  },
  {
   "cell_type": "markdown",
   "metadata": {},
   "source": [
    "# MAke GIF"
   ]
  },
  {
   "cell_type": "code",
   "execution_count": null,
   "metadata": {
    "tags": []
   },
   "outputs": [],
   "source": [
    "sigma_arr = np.std(y_caps_dev, axis=0)\n",
    "\n",
    "step =0.2\n",
    "pause = 10\n",
    "change_grid = np.concatenate([np.arange(0,3+step,step),\n",
    "                              3*np.ones(pause),\n",
    "                              np.arange(3,-3-step,-1*step),\n",
    "                              -3*np.ones(pause),\n",
    "                              np.arange(-3-step,0,step),\n",
    "                              0*np.ones(pause),])\n",
    "\n",
    "num_caps=[1,8,12,13]\n",
    "filenames = []\n",
    "\n",
    "for frame, tinker in enumerate(change_grid):\n",
    "    fig, axs = plt.subplots(2,6, figsize=(18,15*1080/1920))\n",
    "    for img_count, i in enumerate(img_indx):\n",
    "        plot_image(scale*x_dev[i], \"gri\", ax =axs[img_count][0])\n",
    "        plot_image(scale*x_recon_dev[i], \"gri\", ax =axs[img_count][1])\n",
    "        \n",
    "        caps_gal = y_caps_dev[i].copy()\n",
    "        for caps_count, caps_dim in enumerate(num_caps):\n",
    "            tinkered_dim = caps_gal[caps_dim] + tinker * sigma_arr[caps_dim]\n",
    "            tinkered_caps = caps_gal.copy()\n",
    "            tinkered_caps[caps_dim] = tinkered_dim\n",
    "            tinkered_recon = decoder_model.predict(np.expand_dims(tinkered_caps, axis=0))[0]\n",
    "            plot_image(scale*tinkered_recon, \"gri\", ax =axs[img_count][caps_count+2] )\n",
    "    row_names = [\"Disk\", \"Spheroid\"]\n",
    "    col_names = [\"Observed\",\"Reconstructed\", f\"Size\\n ({round(tinker,3)}$\\sigma$)\",\n",
    "                 f\"Orientation\\n ({round(tinker,3)}$\\sigma$)\",\n",
    "                 f\"Central Bulge\\n ({round(tinker,3)}$\\sigma$)\",\n",
    "                f\"Surface\\nBrightness\\n ({round(tinker,3)}$\\sigma$)\",]\n",
    "    for ax, col in zip(axs[0], col_names):\n",
    "        ax.set_title(col, fontsize=30, y = 1.1)\n",
    "    for ax, row in zip(axs[:,0], row_names):\n",
    "        ax.set_ylabel(row, fontsize=40)\n",
    "    # save frame\n",
    "    filename = f'{frame}.png'\n",
    "    filenames.append(filename)\n",
    "    plt.tight_layout()\n",
    "    plt.savefig(filename, bbox_inches=\"tight\", dpi=100)\n",
    "    plt.close()\n",
    "\n",
    "# build gif\n",
    "with imageio.get_writer('./figs/tinker_gif.gif', mode='I', fps=5) as writer:\n",
    "    for filename in filenames:\n",
    "        image = imageio.imread(filename)\n",
    "        writer.append_data(image)\n",
    "\n",
    "# frames = []\n",
    "# for filename in filenames:\n",
    "#     image = imageio.imread(filename)\n",
    "#     frames.append(image)\n",
    "# imageio.mimsave('./figs/tinker_gif.gif', frames)\n",
    "\n",
    "# optimize('./figs/tinker_gif.gif')\n",
    "# Remove files\n",
    "for filename in set(filenames):\n",
    "    os.remove(filename)"
   ]
  },
  {
   "cell_type": "code",
   "execution_count": null,
   "metadata": {},
   "outputs": [],
   "source": [
    "from IPython.display import Image\n",
    "Image(filename=\"./figs/tinker_gif.gif\")"
   ]
  },
  {
   "cell_type": "markdown",
   "metadata": {},
   "source": [
    "# Make video"
   ]
  },
  {
   "cell_type": "code",
   "execution_count": null,
   "metadata": {},
   "outputs": [],
   "source": [
    "sigma_arr = np.std(y_caps_dev, axis=0)\n",
    "\n",
    "step =0.2\n",
    "pause = 10\n",
    "change_grid = np.concatenate([np.arange(0,3+step,step),\n",
    "                              3*np.ones(pause),\n",
    "                              np.arange(3,-3-step,-1*step),\n",
    "                              -3*np.ones(pause),\n",
    "                              np.arange(-3-step,0,step),\n",
    "                              0*np.ones(pause),])\n",
    "\n",
    "num_caps=[1,8,12,13]\n",
    "imgs = []\n",
    "\n",
    "for frame, tinker in enumerate(change_grid):\n",
    "    fig, axs = plt.subplots(2,6, figsize=(18,15*1080/1920))\n",
    "    for img_count, i in enumerate(img_indx):\n",
    "        plot_image(scale*x_dev[i], \"gri\", ax =axs[img_count][0])\n",
    "        plot_image(scale*x_recon_dev[i], \"gri\", ax =axs[img_count][1])\n",
    "        \n",
    "        caps_gal = y_caps_dev[i].copy()\n",
    "        for caps_count, caps_dim in enumerate(num_caps):\n",
    "            tinkered_dim = caps_gal[caps_dim] + tinker * sigma_arr[caps_dim]\n",
    "            tinkered_caps = caps_gal.copy()\n",
    "            tinkered_caps[caps_dim] = tinkered_dim\n",
    "            tinkered_recon = decoder_model.predict(np.expand_dims(tinkered_caps, axis=0))[0]\n",
    "            plot_image(scale*tinkered_recon, \"gri\", ax =axs[img_count][caps_count+2] )\n",
    "    row_names = [\"Disk\", \"Spheroid\"]\n",
    "    col_names = [\"Observed\",\"Reconstructed\", f\"Size\\n ({round(tinker,3)}$\\sigma$)\",\n",
    "                 f\"Orientation\\n ({round(tinker,3)}$\\sigma$)\",\n",
    "                 f\"Central Bulge\\n ({round(tinker,3)}$\\sigma$)\",\n",
    "                f\"Surface\\nBrightness\\n ({round(tinker,3)}$\\sigma$)\",]\n",
    "    for ax, col in zip(axs[0], col_names):\n",
    "        ax.set_title(col, fontsize=30, y = 1.1)\n",
    "    for ax, row in zip(axs[:,0], row_names):\n",
    "        ax.set_ylabel(row, fontsize=40)\n",
    "    # save frame\n",
    "    filename = f'{frame}.png'\n",
    "    filenames.append(filename)\n",
    "    plt.tight_layout()\n",
    "    plt.savefig(filename, bbox_inches=\"tight\", dpi=100)\n",
    "    plt.close()\n",
    "\n",
    "# build gif\n",
    "with imageio.get_writer('./figs/tinker_vid.mp4', mode='I', fps=5) as writer:\n",
    "    for filename in filenames:\n",
    "        image = imageio.imread(filename)\n",
    "        writer.append_data(image)\n",
    "\n",
    "# frames = []\n",
    "# for filename in filenames:\n",
    "#     image = imageio.imread(filename)\n",
    "#     frames.append(image)\n",
    "# imageio.mimsave('./figs/tinker_gif.gif', frames)\n",
    "\n",
    "# optimize('./figs/tinker_gif.gif')\n",
    "# Remove files\n",
    "for filename in set(filenames):\n",
    "    os.remove(filename)"
   ]
  },
  {
   "cell_type": "code",
   "execution_count": null,
   "metadata": {},
   "outputs": [],
   "source": [
    "from IPython.display import Video\n",
    "Video(data=\"./figs/tinker_vid.mp4\")"
   ]
  },
  {
   "cell_type": "markdown",
   "metadata": {},
   "source": [
    "# Check Dim 10"
   ]
  },
  {
   "cell_type": "code",
   "execution_count": null,
   "metadata": {},
   "outputs": [],
   "source": [
    "threshold = np.percentile(y_caps_dev[:,9], 95.5)\n",
    "threshold2 = np.percentile(y_caps_dev[:,9], 95.6)\n",
    "mask = (y_caps_dev[:,9]>threshold) & (y_caps_dev[:,9]<threshold2)"
   ]
  },
  {
   "cell_type": "code",
   "execution_count": null,
   "metadata": {},
   "outputs": [],
   "source": [
    "config[\"input_shape\"] = config[\"image_shape\"]\n",
    "CapsNet = import_model(model_name=config[\"model_name\"])\n",
    "train_model, eval_model,manipulate_model,decoder_model,redshift_model, = CapsNet(**config)\n",
    "manipulate_model.load_weights(\n",
    "    path_results / \"weights\" / f\"weights-{checkpoint_eval:02d}.h5\", by_name=True\n",
    ")\n",
    "\n",
    "\n",
    "sigma_arr = np.std(y_caps_dev, axis=0)\n",
    "\n",
    "caps_gal = y_caps_dev.copy()\n",
    "\n",
    "change_grid = [-3,-2,-1,0,1,2,3]\n",
    "\n",
    "fig, axs = plt.subplots(np.sum(mask),len(change_grid), figsize=(30,200))\n",
    "\n",
    "\n",
    "\n",
    "for j in range(len(change_grid)):\n",
    "    tinkered_dim = caps_gal[mask][:,9] + change_grid[j] * sigma_arr[9]\n",
    "    tinkered_caps = (caps_gal[mask]).copy()\n",
    "    tinkered_caps[:,9] = tinkered_dim\n",
    "    tinkered_recon = decoder_model.predict(tinkered_caps)\n",
    "    \n",
    "    for k in range(np.sum(mask)):\n",
    "        plot_image(scale*tinkered_recon[k], \"gri\", ax =axs[k][j] )\n",
    "\n",
    "cols = ['{}$\\sigma$'.format(col) for col in change_grid]\n",
    "# rows = ['Dim: {}'.format(row) for row in np.arange(1,num_caps+1).astype(str) ]\n",
    "\n",
    "for ax, col in zip(axs[0], cols):\n",
    "    ax.set_title(col, size=25)\n",
    "\n",
    "# for ax, row in zip(axs[:,0], rows):\n",
    "#     ax.set_ylabel(row, size=23)\n",
    "# # fig.suptitle(\"Redshift: \"+ str(z_spec_dev[img_indx]), y =1.01, size=20)\n",
    "# plt.tight_layout()\n",
    "# fig.savefig(\"./figs/tinker_spheroid_appendix.pdf\",bbox_inches='tight',dpi=300)\n"
   ]
  },
  {
   "cell_type": "code",
   "execution_count": null,
   "metadata": {},
   "outputs": [],
   "source": []
  }
 ],
 "metadata": {
  "kernelspec": {
   "display_name": "tf15",
   "language": "python",
   "name": "tf15"
  },
  "language_info": {
   "codemirror_mode": {
    "name": "ipython",
    "version": 3
   },
   "file_extension": ".py",
   "mimetype": "text/x-python",
   "name": "python",
   "nbconvert_exporter": "python",
   "pygments_lexer": "ipython3",
   "version": "3.6.13"
  },
  "widgets": {
   "application/vnd.jupyter.widget-state+json": {
    "state": {},
    "version_major": 2,
    "version_minor": 0
   }
  }
 },
 "nbformat": 4,
 "nbformat_minor": 4
}
