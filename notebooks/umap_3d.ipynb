{
 "cells": [
  {
   "cell_type": "code",
   "execution_count": null,
   "metadata": {},
   "outputs": [],
   "source": [
    "import numpy as np\n",
    "import matplotlib.pyplot as plt\n",
    "import pandas as pd\n",
    "import plotly.express as px"
   ]
  },
  {
   "cell_type": "code",
   "execution_count": null,
   "metadata": {},
   "outputs": [],
   "source": [
    "d = np.load(\"./embedding.npz\")\n",
    "embedding = d[\"embedding\"]\n",
    "morpho=d[\"morpho\"]\n",
    "z_phot_test=d[\"z_phot_test\"]\n",
    "z_spec_test=d[\"z_spec_test\"]"
   ]
  },
  {
   "cell_type": "code",
   "execution_count": null,
   "metadata": {},
   "outputs": [],
   "source": [
    "morpho_name = np.array([\"elliptical\"]*len(morpho))\n",
    "morpho_name[morpho]=\"spiral\"\n",
    "df = pd.DataFrame({'UMAP-1':embedding[:,0], 'UMAP-2':embedding[:,1], 'UMAP-3':embedding[:,2], \"Morphology\":morpho_name, \"Photo-z\":z_phot_test, \"Spec-z\":z_spec_test})\n"
   ]
  },
  {
   "cell_type": "code",
   "execution_count": null,
   "metadata": {},
   "outputs": [],
   "source": [
    "fig = px.scatter_3d(df, x='UMAP-1', y='UMAP-2', z='UMAP-3', color= \"Morphology\")\n",
    "fig.update_traces(selector=dict(name=\"elliptical\"), marker=dict(size=1.5,color=('#EF553B')))\n",
    "fig.update_traces(selector=dict(name=\"spiral\"), marker=dict(size=1.5,color=('#636efa')))\n",
    "# fig.show()\n",
    "fig.write_html(\"UMAP_3D_morpho.html\")"
   ]
  },
  {
   "cell_type": "code",
   "execution_count": null,
   "metadata": {},
   "outputs": [],
   "source": [
    "fig = px.scatter_3d(df, x='UMAP-1', y='UMAP-2', z='UMAP-3', color= \"Photo-z\")\n",
    "fig.update_traces(marker=dict(size=1.5,))\n",
    "# fig.show()\n",
    "fig.write_html(\"UMAP_3D_photo_z.html\")"
   ]
  },
  {
   "cell_type": "code",
   "execution_count": null,
   "metadata": {},
   "outputs": [],
   "source": [
    "fig = px.scatter_3d(df, x='UMAP-1', y='UMAP-2', z='UMAP-3', color= \"Spec-z\")\n",
    "fig.update_traces(marker=dict(size=1.5,))\n",
    "# fig.show()\n",
    "fig.write_html(\"UMAP_3D_spec_z.html\")"
   ]
  }
 ],
 "metadata": {
  "kernelspec": {
   "display_name": "widgets",
   "language": "python",
   "name": "widgets"
  },
  "language_info": {
   "codemirror_mode": {
    "name": "ipython",
    "version": 3
   },
   "file_extension": ".py",
   "mimetype": "text/x-python",
   "name": "python",
   "nbconvert_exporter": "python",
   "pygments_lexer": "ipython3",
   "version": "3.9.7"
  }
 },
 "nbformat": 4,
 "nbformat_minor": 4
}
