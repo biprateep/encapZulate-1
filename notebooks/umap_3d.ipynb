{
 "cells": [
  {
   "cell_type": "code",
   "execution_count": 1,
   "metadata": {},
   "outputs": [],
   "source": [
    "import numpy as np\n",
    "import matplotlib.pyplot as plt\n",
    "import pandas as pd\n",
    "import plotly.express as px"
   ]
  },
  {
   "cell_type": "code",
   "execution_count": 2,
   "metadata": {},
   "outputs": [],
   "source": [
    "d = np.load(\"./embedding_3D_dens.npz\", allow_pickle=True)\n",
    "embedding = d[\"embedding\"]\n",
    "morpho=d[\"morpho\"]\n",
    "z_phot_test=d[\"z_phot_test\"]\n",
    "z_spec_test=d[\"z_spec_test\"]\n",
    "cat_test = d[\"cat_test\"]\n",
    "mse = np.load(\"./embedding_2d.npz\", allow_pickle=True)[\"mse\"]"
   ]
  },
  {
   "cell_type": "code",
   "execution_count": 3,
   "metadata": {},
   "outputs": [],
   "source": [
    "morpho_name = np.array([\"elliptical\"]*len(morpho))\n",
    "morpho_name[morpho]=\"spiral\"\n",
    "df = pd.DataFrame({'UMAP-1':embedding[:,0], 'UMAP-2':embedding[:,1], 'UMAP-3':embedding[:,2], \"Morphology\":morpho_name, \"Photo-z\":z_phot_test, \"Spec-z\":z_spec_test, \"MSE-recon\":mse})\n"
   ]
  },
  {
   "cell_type": "code",
   "execution_count": 5,
   "metadata": {},
   "outputs": [],
   "source": [
    "fig = px.scatter_3d(df, x='UMAP-1', y='UMAP-2', z='UMAP-3', color= \"Morphology\")\n",
    "fig.update_traces(selector=dict(name=\"elliptical\"), marker=dict(size=1.5,color=('#EF553B')))\n",
    "fig.update_traces(selector=dict(name=\"spiral\"), marker=dict(size=1.5,color=('#636efa')))\n",
    "# fig.show()\n",
    "fig.write_html(\"UMAP_3D_morpho_dens.html\")"
   ]
  },
  {
   "cell_type": "code",
   "execution_count": null,
   "metadata": {},
   "outputs": [],
   "source": [
    "fig = px.scatter_3d(df, x='UMAP-1', y='UMAP-2', z='UMAP-3', color= \"Photo-z\")\n",
    "fig.update_traces(marker=dict(size=1.5,))\n",
    "# fig.show()\n",
    "fig.write_html(\"UMAP_3D_photo_z.html\")"
   ]
  },
  {
   "cell_type": "code",
   "execution_count": 4,
   "metadata": {},
   "outputs": [],
   "source": [
    "fig = px.scatter_3d(df, x='UMAP-1', y='UMAP-2', z='UMAP-3', color= \"Spec-z\")\n",
    "fig.update_traces(marker=dict(size=1.5,))\n",
    "# fig.show()\n",
    "fig.write_html(\"UMAP_3D_spec_z_dens.html\")"
   ]
  },
  {
   "cell_type": "code",
   "execution_count": 8,
   "metadata": {},
   "outputs": [],
   "source": [
    "fig = px.scatter_3d(df, x='UMAP-1', y='UMAP-2', z='UMAP-3', color= np.log10( df[\"MSE-recon\"]), range_color=[-6, -3])\n",
    "fig.update_traces(marker=dict(size=1.5,))\n",
    "# fig.show()\n",
    "fig.write_html(\"UMAP_3D_mse.html\")"
   ]
  },
  {
   "cell_type": "code",
   "execution_count": null,
   "metadata": {},
   "outputs": [],
   "source": []
  }
 ],
 "metadata": {
  "kernelspec": {
   "display_name": "widgets",
   "language": "python",
   "name": "widgets"
  },
  "language_info": {
   "codemirror_mode": {
    "name": "ipython",
    "version": 3
   },
   "file_extension": ".py",
   "mimetype": "text/x-python",
   "name": "python",
   "nbconvert_exporter": "python",
   "pygments_lexer": "ipython3",
   "version": "3.9.7"
  }
 },
 "nbformat": 4,
 "nbformat_minor": 4
}
